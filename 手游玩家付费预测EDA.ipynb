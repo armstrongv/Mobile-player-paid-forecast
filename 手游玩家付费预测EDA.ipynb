{
 "cells": [
  {
   "cell_type": "markdown",
   "metadata": {},
   "source": [
    "## 手游玩家付费预测EDA\n",
    "**目的：**利用制表、作图、特征分析等方法，对手游玩家的付费数据进行探索性数据分析，找出不同玩家之间的特点和规律，为接下来的预测模型提供思路和方法"
   ]
  },
  {
   "cell_type": "code",
   "execution_count": 38,
   "metadata": {},
   "outputs": [],
   "source": [
    "import numpy as np\n",
    "import pandas as pd\n",
    "import matplotlib.pyplot as plt\n",
    "%matplotlib inline\n",
    "import seaborn as sns\n",
    "plt.rcParams['font.sans-serif']=['simHei']\n",
    "import warnings\n",
    "warnings.filterwarnings('ignore')"
   ]
  },
  {
   "cell_type": "code",
   "execution_count": 39,
   "metadata": {},
   "outputs": [],
   "source": [
    "# 分块读取再concat拼接\n",
    "temp_df = []\n",
    "for chunk in pd.read_table('E:/数据分析学习资料汇总/游戏玩家付费金额预测/tap4fun游戏玩家付费金额预测大赛/tap4fun竞赛数据/tap_fun_train.csv',\\\n",
    "              sep=',', chunksize=10000):\n",
    "    temp_df.append(chunk)\n",
    "data = pd.concat(temp_df, axis=0)\n",
    "del temp_df"
   ]
  },
  {
   "cell_type": "code",
   "execution_count": 40,
   "metadata": {},
   "outputs": [
    {
     "data": {
      "text/plain": [
       "(2288007, 109)"
      ]
     },
     "execution_count": 40,
     "metadata": {},
     "output_type": "execute_result"
    }
   ],
   "source": [
    "data.shape"
   ]
  },
  {
   "cell_type": "markdown",
   "metadata": {},
   "source": [
    "## 观察和理解特征"
   ]
  },
  {
   "cell_type": "code",
   "execution_count": 41,
   "metadata": {
    "scrolled": true
   },
   "outputs": [
    {
     "data": {
      "text/html": [
       "<div>\n",
       "<style scoped>\n",
       "    .dataframe tbody tr th:only-of-type {\n",
       "        vertical-align: middle;\n",
       "    }\n",
       "\n",
       "    .dataframe tbody tr th {\n",
       "        vertical-align: top;\n",
       "    }\n",
       "\n",
       "    .dataframe thead th {\n",
       "        text-align: right;\n",
       "    }\n",
       "</style>\n",
       "<table border=\"1\" class=\"dataframe\">\n",
       "  <thead>\n",
       "    <tr style=\"text-align: right;\">\n",
       "      <th></th>\n",
       "      <th>user_id</th>\n",
       "      <th>register_time</th>\n",
       "      <th>wood_add_value</th>\n",
       "      <th>wood_reduce_value</th>\n",
       "      <th>stone_add_value</th>\n",
       "      <th>stone_reduce_value</th>\n",
       "      <th>ivory_add_value</th>\n",
       "      <th>ivory_reduce_value</th>\n",
       "      <th>meat_add_value</th>\n",
       "      <th>meat_reduce_value</th>\n",
       "      <th>...</th>\n",
       "      <th>pvp_battle_count</th>\n",
       "      <th>pvp_lanch_count</th>\n",
       "      <th>pvp_win_count</th>\n",
       "      <th>pve_battle_count</th>\n",
       "      <th>pve_lanch_count</th>\n",
       "      <th>pve_win_count</th>\n",
       "      <th>avg_online_minutes</th>\n",
       "      <th>pay_price</th>\n",
       "      <th>pay_count</th>\n",
       "      <th>prediction_pay_price</th>\n",
       "    </tr>\n",
       "  </thead>\n",
       "  <tbody>\n",
       "    <tr>\n",
       "      <th>0</th>\n",
       "      <td>1</td>\n",
       "      <td>2018-02-02 19:47:15</td>\n",
       "      <td>20125.0</td>\n",
       "      <td>3700.0</td>\n",
       "      <td>0.0</td>\n",
       "      <td>0.0</td>\n",
       "      <td>0.0</td>\n",
       "      <td>0.0</td>\n",
       "      <td>16375.0</td>\n",
       "      <td>2000.0</td>\n",
       "      <td>...</td>\n",
       "      <td>0</td>\n",
       "      <td>0</td>\n",
       "      <td>0</td>\n",
       "      <td>0</td>\n",
       "      <td>0</td>\n",
       "      <td>0</td>\n",
       "      <td>0.333333</td>\n",
       "      <td>0.0</td>\n",
       "      <td>0</td>\n",
       "      <td>0.0</td>\n",
       "    </tr>\n",
       "    <tr>\n",
       "      <th>1</th>\n",
       "      <td>1593</td>\n",
       "      <td>2018-01-26 00:01:05</td>\n",
       "      <td>0.0</td>\n",
       "      <td>0.0</td>\n",
       "      <td>0.0</td>\n",
       "      <td>0.0</td>\n",
       "      <td>0.0</td>\n",
       "      <td>0.0</td>\n",
       "      <td>0.0</td>\n",
       "      <td>0.0</td>\n",
       "      <td>...</td>\n",
       "      <td>0</td>\n",
       "      <td>0</td>\n",
       "      <td>0</td>\n",
       "      <td>0</td>\n",
       "      <td>0</td>\n",
       "      <td>0</td>\n",
       "      <td>0.333333</td>\n",
       "      <td>0.0</td>\n",
       "      <td>0</td>\n",
       "      <td>0.0</td>\n",
       "    </tr>\n",
       "    <tr>\n",
       "      <th>2</th>\n",
       "      <td>1594</td>\n",
       "      <td>2018-01-26 00:01:58</td>\n",
       "      <td>0.0</td>\n",
       "      <td>0.0</td>\n",
       "      <td>0.0</td>\n",
       "      <td>0.0</td>\n",
       "      <td>0.0</td>\n",
       "      <td>0.0</td>\n",
       "      <td>0.0</td>\n",
       "      <td>0.0</td>\n",
       "      <td>...</td>\n",
       "      <td>0</td>\n",
       "      <td>0</td>\n",
       "      <td>0</td>\n",
       "      <td>0</td>\n",
       "      <td>0</td>\n",
       "      <td>0</td>\n",
       "      <td>1.166667</td>\n",
       "      <td>0.0</td>\n",
       "      <td>0</td>\n",
       "      <td>0.0</td>\n",
       "    </tr>\n",
       "    <tr>\n",
       "      <th>3</th>\n",
       "      <td>1595</td>\n",
       "      <td>2018-01-26 00:02:13</td>\n",
       "      <td>0.0</td>\n",
       "      <td>0.0</td>\n",
       "      <td>0.0</td>\n",
       "      <td>0.0</td>\n",
       "      <td>0.0</td>\n",
       "      <td>0.0</td>\n",
       "      <td>0.0</td>\n",
       "      <td>0.0</td>\n",
       "      <td>...</td>\n",
       "      <td>0</td>\n",
       "      <td>0</td>\n",
       "      <td>0</td>\n",
       "      <td>0</td>\n",
       "      <td>0</td>\n",
       "      <td>0</td>\n",
       "      <td>3.166667</td>\n",
       "      <td>0.0</td>\n",
       "      <td>0</td>\n",
       "      <td>0.0</td>\n",
       "    </tr>\n",
       "    <tr>\n",
       "      <th>4</th>\n",
       "      <td>1596</td>\n",
       "      <td>2018-01-26 00:02:46</td>\n",
       "      <td>0.0</td>\n",
       "      <td>0.0</td>\n",
       "      <td>0.0</td>\n",
       "      <td>0.0</td>\n",
       "      <td>0.0</td>\n",
       "      <td>0.0</td>\n",
       "      <td>0.0</td>\n",
       "      <td>0.0</td>\n",
       "      <td>...</td>\n",
       "      <td>0</td>\n",
       "      <td>0</td>\n",
       "      <td>0</td>\n",
       "      <td>0</td>\n",
       "      <td>0</td>\n",
       "      <td>0</td>\n",
       "      <td>2.333333</td>\n",
       "      <td>0.0</td>\n",
       "      <td>0</td>\n",
       "      <td>0.0</td>\n",
       "    </tr>\n",
       "  </tbody>\n",
       "</table>\n",
       "<p>5 rows × 109 columns</p>\n",
       "</div>"
      ],
      "text/plain": [
       "   user_id        register_time  wood_add_value  wood_reduce_value  \\\n",
       "0        1  2018-02-02 19:47:15         20125.0             3700.0   \n",
       "1     1593  2018-01-26 00:01:05             0.0                0.0   \n",
       "2     1594  2018-01-26 00:01:58             0.0                0.0   \n",
       "3     1595  2018-01-26 00:02:13             0.0                0.0   \n",
       "4     1596  2018-01-26 00:02:46             0.0                0.0   \n",
       "\n",
       "   stone_add_value  stone_reduce_value  ivory_add_value  ivory_reduce_value  \\\n",
       "0              0.0                 0.0              0.0                 0.0   \n",
       "1              0.0                 0.0              0.0                 0.0   \n",
       "2              0.0                 0.0              0.0                 0.0   \n",
       "3              0.0                 0.0              0.0                 0.0   \n",
       "4              0.0                 0.0              0.0                 0.0   \n",
       "\n",
       "   meat_add_value  meat_reduce_value  ...  pvp_battle_count  pvp_lanch_count  \\\n",
       "0         16375.0             2000.0  ...                 0                0   \n",
       "1             0.0                0.0  ...                 0                0   \n",
       "2             0.0                0.0  ...                 0                0   \n",
       "3             0.0                0.0  ...                 0                0   \n",
       "4             0.0                0.0  ...                 0                0   \n",
       "\n",
       "   pvp_win_count  pve_battle_count  pve_lanch_count  pve_win_count  \\\n",
       "0              0                 0                0              0   \n",
       "1              0                 0                0              0   \n",
       "2              0                 0                0              0   \n",
       "3              0                 0                0              0   \n",
       "4              0                 0                0              0   \n",
       "\n",
       "   avg_online_minutes  pay_price  pay_count  prediction_pay_price  \n",
       "0            0.333333        0.0          0                   0.0  \n",
       "1            0.333333        0.0          0                   0.0  \n",
       "2            1.166667        0.0          0                   0.0  \n",
       "3            3.166667        0.0          0                   0.0  \n",
       "4            2.333333        0.0          0                   0.0  \n",
       "\n",
       "[5 rows x 109 columns]"
      ]
     },
     "execution_count": 41,
     "metadata": {},
     "output_type": "execute_result"
    }
   ],
   "source": [
    "data.head()"
   ]
  },
  {
   "cell_type": "code",
   "execution_count": 42,
   "metadata": {},
   "outputs": [
    {
     "name": "stdout",
     "output_type": "stream",
     "text": [
      "<class 'pandas.core.frame.DataFrame'>\n",
      "RangeIndex: 2288007 entries, 0 to 2288006\n",
      "Columns: 109 entries, user_id to prediction_pay_price\n",
      "dtypes: float64(13), int64(95), object(1)\n",
      "memory usage: 1.9+ GB\n"
     ]
    }
   ],
   "source": [
    "data.info()"
   ]
  },
  {
   "cell_type": "code",
   "execution_count": 43,
   "metadata": {
    "scrolled": true
   },
   "outputs": [
    {
     "data": {
      "text/html": [
       "<div>\n",
       "<style scoped>\n",
       "    .dataframe tbody tr th:only-of-type {\n",
       "        vertical-align: middle;\n",
       "    }\n",
       "\n",
       "    .dataframe tbody tr th {\n",
       "        vertical-align: top;\n",
       "    }\n",
       "\n",
       "    .dataframe thead th {\n",
       "        text-align: right;\n",
       "    }\n",
       "</style>\n",
       "<table border=\"1\" class=\"dataframe\">\n",
       "  <thead>\n",
       "    <tr style=\"text-align: right;\">\n",
       "      <th></th>\n",
       "      <th>user_id</th>\n",
       "      <th>wood_add_value</th>\n",
       "      <th>wood_reduce_value</th>\n",
       "      <th>stone_add_value</th>\n",
       "      <th>stone_reduce_value</th>\n",
       "      <th>ivory_add_value</th>\n",
       "      <th>ivory_reduce_value</th>\n",
       "      <th>meat_add_value</th>\n",
       "      <th>meat_reduce_value</th>\n",
       "      <th>magic_add_value</th>\n",
       "      <th>...</th>\n",
       "      <th>pvp_battle_count</th>\n",
       "      <th>pvp_lanch_count</th>\n",
       "      <th>pvp_win_count</th>\n",
       "      <th>pve_battle_count</th>\n",
       "      <th>pve_lanch_count</th>\n",
       "      <th>pve_win_count</th>\n",
       "      <th>avg_online_minutes</th>\n",
       "      <th>pay_price</th>\n",
       "      <th>pay_count</th>\n",
       "      <th>prediction_pay_price</th>\n",
       "    </tr>\n",
       "  </thead>\n",
       "  <tbody>\n",
       "    <tr>\n",
       "      <th>count</th>\n",
       "      <td>2.288007e+06</td>\n",
       "      <td>2.288007e+06</td>\n",
       "      <td>2.288007e+06</td>\n",
       "      <td>2.288007e+06</td>\n",
       "      <td>2.288007e+06</td>\n",
       "      <td>2.288007e+06</td>\n",
       "      <td>2.288007e+06</td>\n",
       "      <td>2.288007e+06</td>\n",
       "      <td>2.288007e+06</td>\n",
       "      <td>2.288007e+06</td>\n",
       "      <td>...</td>\n",
       "      <td>2.288007e+06</td>\n",
       "      <td>2.288007e+06</td>\n",
       "      <td>2.288007e+06</td>\n",
       "      <td>2.288007e+06</td>\n",
       "      <td>2.288007e+06</td>\n",
       "      <td>2.288007e+06</td>\n",
       "      <td>2.288007e+06</td>\n",
       "      <td>2.288007e+06</td>\n",
       "      <td>2.288007e+06</td>\n",
       "      <td>2.288007e+06</td>\n",
       "    </tr>\n",
       "    <tr>\n",
       "      <th>mean</th>\n",
       "      <td>1.529543e+06</td>\n",
       "      <td>4.543069e+05</td>\n",
       "      <td>3.698433e+05</td>\n",
       "      <td>1.897788e+05</td>\n",
       "      <td>1.376074e+05</td>\n",
       "      <td>8.075623e+04</td>\n",
       "      <td>3.613170e+04</td>\n",
       "      <td>5.855155e+05</td>\n",
       "      <td>3.548102e+05</td>\n",
       "      <td>7.538954e+04</td>\n",
       "      <td>...</td>\n",
       "      <td>2.148313e+00</td>\n",
       "      <td>1.059639e+00</td>\n",
       "      <td>9.838589e-01</td>\n",
       "      <td>2.844738e+00</td>\n",
       "      <td>2.832409e+00</td>\n",
       "      <td>2.556749e+00</td>\n",
       "      <td>1.020749e+01</td>\n",
       "      <td>5.346691e-01</td>\n",
       "      <td>5.770699e-02</td>\n",
       "      <td>1.793146e+00</td>\n",
       "    </tr>\n",
       "    <tr>\n",
       "      <th>std</th>\n",
       "      <td>9.399393e+05</td>\n",
       "      <td>4.958667e+06</td>\n",
       "      <td>3.737720e+06</td>\n",
       "      <td>4.670620e+06</td>\n",
       "      <td>3.370166e+06</td>\n",
       "      <td>2.220540e+06</td>\n",
       "      <td>1.782499e+06</td>\n",
       "      <td>5.868629e+06</td>\n",
       "      <td>3.400632e+06</td>\n",
       "      <td>9.662892e+05</td>\n",
       "      <td>...</td>\n",
       "      <td>1.167797e+01</td>\n",
       "      <td>9.074459e+00</td>\n",
       "      <td>8.951280e+00</td>\n",
       "      <td>1.276245e+01</td>\n",
       "      <td>1.271820e+01</td>\n",
       "      <td>1.184737e+01</td>\n",
       "      <td>3.895946e+01</td>\n",
       "      <td>2.263835e+01</td>\n",
       "      <td>7.090886e-01</td>\n",
       "      <td>8.846303e+01</td>\n",
       "    </tr>\n",
       "    <tr>\n",
       "      <th>min</th>\n",
       "      <td>1.000000e+00</td>\n",
       "      <td>0.000000e+00</td>\n",
       "      <td>0.000000e+00</td>\n",
       "      <td>0.000000e+00</td>\n",
       "      <td>0.000000e+00</td>\n",
       "      <td>0.000000e+00</td>\n",
       "      <td>0.000000e+00</td>\n",
       "      <td>0.000000e+00</td>\n",
       "      <td>0.000000e+00</td>\n",
       "      <td>0.000000e+00</td>\n",
       "      <td>...</td>\n",
       "      <td>0.000000e+00</td>\n",
       "      <td>0.000000e+00</td>\n",
       "      <td>0.000000e+00</td>\n",
       "      <td>0.000000e+00</td>\n",
       "      <td>0.000000e+00</td>\n",
       "      <td>0.000000e+00</td>\n",
       "      <td>0.000000e+00</td>\n",
       "      <td>0.000000e+00</td>\n",
       "      <td>0.000000e+00</td>\n",
       "      <td>0.000000e+00</td>\n",
       "    </tr>\n",
       "    <tr>\n",
       "      <th>25%</th>\n",
       "      <td>7.499925e+05</td>\n",
       "      <td>0.000000e+00</td>\n",
       "      <td>0.000000e+00</td>\n",
       "      <td>0.000000e+00</td>\n",
       "      <td>0.000000e+00</td>\n",
       "      <td>0.000000e+00</td>\n",
       "      <td>0.000000e+00</td>\n",
       "      <td>0.000000e+00</td>\n",
       "      <td>0.000000e+00</td>\n",
       "      <td>0.000000e+00</td>\n",
       "      <td>...</td>\n",
       "      <td>0.000000e+00</td>\n",
       "      <td>0.000000e+00</td>\n",
       "      <td>0.000000e+00</td>\n",
       "      <td>0.000000e+00</td>\n",
       "      <td>0.000000e+00</td>\n",
       "      <td>0.000000e+00</td>\n",
       "      <td>5.000000e-01</td>\n",
       "      <td>0.000000e+00</td>\n",
       "      <td>0.000000e+00</td>\n",
       "      <td>0.000000e+00</td>\n",
       "    </tr>\n",
       "    <tr>\n",
       "      <th>50%</th>\n",
       "      <td>1.419095e+06</td>\n",
       "      <td>4.203800e+04</td>\n",
       "      <td>9.830000e+03</td>\n",
       "      <td>0.000000e+00</td>\n",
       "      <td>0.000000e+00</td>\n",
       "      <td>0.000000e+00</td>\n",
       "      <td>0.000000e+00</td>\n",
       "      <td>3.458700e+04</td>\n",
       "      <td>6.470000e+03</td>\n",
       "      <td>0.000000e+00</td>\n",
       "      <td>...</td>\n",
       "      <td>0.000000e+00</td>\n",
       "      <td>0.000000e+00</td>\n",
       "      <td>0.000000e+00</td>\n",
       "      <td>0.000000e+00</td>\n",
       "      <td>0.000000e+00</td>\n",
       "      <td>0.000000e+00</td>\n",
       "      <td>1.833333e+00</td>\n",
       "      <td>0.000000e+00</td>\n",
       "      <td>0.000000e+00</td>\n",
       "      <td>0.000000e+00</td>\n",
       "    </tr>\n",
       "    <tr>\n",
       "      <th>75%</th>\n",
       "      <td>2.299006e+06</td>\n",
       "      <td>1.531180e+05</td>\n",
       "      <td>9.855700e+04</td>\n",
       "      <td>0.000000e+00</td>\n",
       "      <td>0.000000e+00</td>\n",
       "      <td>0.000000e+00</td>\n",
       "      <td>0.000000e+00</td>\n",
       "      <td>1.360010e+05</td>\n",
       "      <td>6.605400e+04</td>\n",
       "      <td>0.000000e+00</td>\n",
       "      <td>...</td>\n",
       "      <td>1.000000e+00</td>\n",
       "      <td>0.000000e+00</td>\n",
       "      <td>0.000000e+00</td>\n",
       "      <td>1.000000e+00</td>\n",
       "      <td>1.000000e+00</td>\n",
       "      <td>1.000000e+00</td>\n",
       "      <td>4.833333e+00</td>\n",
       "      <td>0.000000e+00</td>\n",
       "      <td>0.000000e+00</td>\n",
       "      <td>0.000000e+00</td>\n",
       "    </tr>\n",
       "    <tr>\n",
       "      <th>max</th>\n",
       "      <td>3.190530e+06</td>\n",
       "      <td>1.239962e+09</td>\n",
       "      <td>7.995875e+08</td>\n",
       "      <td>1.214869e+09</td>\n",
       "      <td>7.962378e+08</td>\n",
       "      <td>5.744961e+08</td>\n",
       "      <td>4.481972e+08</td>\n",
       "      <td>1.470644e+09</td>\n",
       "      <td>8.889537e+08</td>\n",
       "      <td>2.637228e+08</td>\n",
       "      <td>...</td>\n",
       "      <td>2.054000e+03</td>\n",
       "      <td>2.051000e+03</td>\n",
       "      <td>1.904000e+03</td>\n",
       "      <td>5.090000e+02</td>\n",
       "      <td>5.090000e+02</td>\n",
       "      <td>4.880000e+02</td>\n",
       "      <td>2.049667e+03</td>\n",
       "      <td>7.457950e+03</td>\n",
       "      <td>1.050000e+02</td>\n",
       "      <td>3.297781e+04</td>\n",
       "    </tr>\n",
       "  </tbody>\n",
       "</table>\n",
       "<p>8 rows × 108 columns</p>\n",
       "</div>"
      ],
      "text/plain": [
       "            user_id  wood_add_value  wood_reduce_value  stone_add_value  \\\n",
       "count  2.288007e+06    2.288007e+06       2.288007e+06     2.288007e+06   \n",
       "mean   1.529543e+06    4.543069e+05       3.698433e+05     1.897788e+05   \n",
       "std    9.399393e+05    4.958667e+06       3.737720e+06     4.670620e+06   \n",
       "min    1.000000e+00    0.000000e+00       0.000000e+00     0.000000e+00   \n",
       "25%    7.499925e+05    0.000000e+00       0.000000e+00     0.000000e+00   \n",
       "50%    1.419095e+06    4.203800e+04       9.830000e+03     0.000000e+00   \n",
       "75%    2.299006e+06    1.531180e+05       9.855700e+04     0.000000e+00   \n",
       "max    3.190530e+06    1.239962e+09       7.995875e+08     1.214869e+09   \n",
       "\n",
       "       stone_reduce_value  ivory_add_value  ivory_reduce_value  \\\n",
       "count        2.288007e+06     2.288007e+06        2.288007e+06   \n",
       "mean         1.376074e+05     8.075623e+04        3.613170e+04   \n",
       "std          3.370166e+06     2.220540e+06        1.782499e+06   \n",
       "min          0.000000e+00     0.000000e+00        0.000000e+00   \n",
       "25%          0.000000e+00     0.000000e+00        0.000000e+00   \n",
       "50%          0.000000e+00     0.000000e+00        0.000000e+00   \n",
       "75%          0.000000e+00     0.000000e+00        0.000000e+00   \n",
       "max          7.962378e+08     5.744961e+08        4.481972e+08   \n",
       "\n",
       "       meat_add_value  meat_reduce_value  magic_add_value  ...  \\\n",
       "count    2.288007e+06       2.288007e+06     2.288007e+06  ...   \n",
       "mean     5.855155e+05       3.548102e+05     7.538954e+04  ...   \n",
       "std      5.868629e+06       3.400632e+06     9.662892e+05  ...   \n",
       "min      0.000000e+00       0.000000e+00     0.000000e+00  ...   \n",
       "25%      0.000000e+00       0.000000e+00     0.000000e+00  ...   \n",
       "50%      3.458700e+04       6.470000e+03     0.000000e+00  ...   \n",
       "75%      1.360010e+05       6.605400e+04     0.000000e+00  ...   \n",
       "max      1.470644e+09       8.889537e+08     2.637228e+08  ...   \n",
       "\n",
       "       pvp_battle_count  pvp_lanch_count  pvp_win_count  pve_battle_count  \\\n",
       "count      2.288007e+06     2.288007e+06   2.288007e+06      2.288007e+06   \n",
       "mean       2.148313e+00     1.059639e+00   9.838589e-01      2.844738e+00   \n",
       "std        1.167797e+01     9.074459e+00   8.951280e+00      1.276245e+01   \n",
       "min        0.000000e+00     0.000000e+00   0.000000e+00      0.000000e+00   \n",
       "25%        0.000000e+00     0.000000e+00   0.000000e+00      0.000000e+00   \n",
       "50%        0.000000e+00     0.000000e+00   0.000000e+00      0.000000e+00   \n",
       "75%        1.000000e+00     0.000000e+00   0.000000e+00      1.000000e+00   \n",
       "max        2.054000e+03     2.051000e+03   1.904000e+03      5.090000e+02   \n",
       "\n",
       "       pve_lanch_count  pve_win_count  avg_online_minutes     pay_price  \\\n",
       "count     2.288007e+06   2.288007e+06        2.288007e+06  2.288007e+06   \n",
       "mean      2.832409e+00   2.556749e+00        1.020749e+01  5.346691e-01   \n",
       "std       1.271820e+01   1.184737e+01        3.895946e+01  2.263835e+01   \n",
       "min       0.000000e+00   0.000000e+00        0.000000e+00  0.000000e+00   \n",
       "25%       0.000000e+00   0.000000e+00        5.000000e-01  0.000000e+00   \n",
       "50%       0.000000e+00   0.000000e+00        1.833333e+00  0.000000e+00   \n",
       "75%       1.000000e+00   1.000000e+00        4.833333e+00  0.000000e+00   \n",
       "max       5.090000e+02   4.880000e+02        2.049667e+03  7.457950e+03   \n",
       "\n",
       "          pay_count  prediction_pay_price  \n",
       "count  2.288007e+06          2.288007e+06  \n",
       "mean   5.770699e-02          1.793146e+00  \n",
       "std    7.090886e-01          8.846303e+01  \n",
       "min    0.000000e+00          0.000000e+00  \n",
       "25%    0.000000e+00          0.000000e+00  \n",
       "50%    0.000000e+00          0.000000e+00  \n",
       "75%    0.000000e+00          0.000000e+00  \n",
       "max    1.050000e+02          3.297781e+04  \n",
       "\n",
       "[8 rows x 108 columns]"
      ]
     },
     "execution_count": 43,
     "metadata": {},
     "output_type": "execute_result"
    }
   ],
   "source": [
    "data.describe()"
   ]
  },
  {
   "cell_type": "markdown",
   "metadata": {},
   "source": [
    "## 数据类型的观察（int/float/str）与转换（时间类型）"
   ]
  },
  {
   "cell_type": "code",
   "execution_count": 44,
   "metadata": {
    "scrolled": false
   },
   "outputs": [
    {
     "data": {
      "text/plain": [
       "Index(['register_time'], dtype='object')"
      ]
     },
     "execution_count": 44,
     "metadata": {},
     "output_type": "execute_result"
    }
   ],
   "source": [
    "data.columns[data.dtypes=='object']"
   ]
  },
  {
   "cell_type": "code",
   "execution_count": 45,
   "metadata": {},
   "outputs": [
    {
     "data": {
      "text/html": [
       "<div>\n",
       "<style scoped>\n",
       "    .dataframe tbody tr th:only-of-type {\n",
       "        vertical-align: middle;\n",
       "    }\n",
       "\n",
       "    .dataframe tbody tr th {\n",
       "        vertical-align: top;\n",
       "    }\n",
       "\n",
       "    .dataframe thead th {\n",
       "        text-align: right;\n",
       "    }\n",
       "</style>\n",
       "<table border=\"1\" class=\"dataframe\">\n",
       "  <thead>\n",
       "    <tr style=\"text-align: right;\">\n",
       "      <th></th>\n",
       "      <th>register_time</th>\n",
       "    </tr>\n",
       "  </thead>\n",
       "  <tbody>\n",
       "    <tr>\n",
       "      <th>0</th>\n",
       "      <td>2018-02-02 19:47:15</td>\n",
       "    </tr>\n",
       "    <tr>\n",
       "      <th>1</th>\n",
       "      <td>2018-01-26 00:01:05</td>\n",
       "    </tr>\n",
       "    <tr>\n",
       "      <th>2</th>\n",
       "      <td>2018-01-26 00:01:58</td>\n",
       "    </tr>\n",
       "    <tr>\n",
       "      <th>3</th>\n",
       "      <td>2018-01-26 00:02:13</td>\n",
       "    </tr>\n",
       "    <tr>\n",
       "      <th>4</th>\n",
       "      <td>2018-01-26 00:02:46</td>\n",
       "    </tr>\n",
       "  </tbody>\n",
       "</table>\n",
       "</div>"
      ],
      "text/plain": [
       "         register_time\n",
       "0  2018-02-02 19:47:15\n",
       "1  2018-01-26 00:01:05\n",
       "2  2018-01-26 00:01:58\n",
       "3  2018-01-26 00:02:13\n",
       "4  2018-01-26 00:02:46"
      ]
     },
     "execution_count": 45,
     "metadata": {},
     "output_type": "execute_result"
    }
   ],
   "source": [
    "data.dtypes.value_counts() \n",
    "data.select_dtypes(include='object').head()"
   ]
  },
  {
   "cell_type": "code",
   "execution_count": 81,
   "metadata": {},
   "outputs": [],
   "source": [
    "# 去除时分秒\n",
    "data.register_time = pd.to_datetime(data.register_time).dt.normalize()"
   ]
  },
  {
   "cell_type": "markdown",
   "metadata": {},
   "source": [
    "## 缺失值检测与 填充/删除"
   ]
  },
  {
   "cell_type": "code",
   "execution_count": 49,
   "metadata": {},
   "outputs": [
    {
     "data": {
      "text/plain": [
       "<matplotlib.axes._subplots.AxesSubplot at 0x24c016c19b0>"
      ]
     },
     "execution_count": 49,
     "metadata": {},
     "output_type": "execute_result"
    },
    {
     "data": {
      "image/png": "[encoded data removed]",
      "text/plain": [
       "<Figure size 1152x504 with 2 Axes>"
      ]
     },
     "metadata": {
      "needs_background": "light"
     },
     "output_type": "display_data"
    }
   ],
   "source": [
    "import missingno as msno\n",
    "msno.matrix(data.sample(500),\n",
    "           figsize=(16,7),\n",
    "           width_ratios=(15,1),\n",
    "           labels=True)"
   ]
  },
  {
   "cell_type": "code",
   "execution_count": 50,
   "metadata": {},
   "outputs": [
    {
     "data": {
      "text/plain": [
       "True    109\n",
       "dtype: int64"
      ]
     },
     "execution_count": 50,
     "metadata": {},
     "output_type": "execute_result"
    }
   ],
   "source": [
    "# 数据无缺失值\n",
    "(data.isnull().sum()==0).value_counts()"
   ]
  },
  {
   "cell_type": "markdown",
   "metadata": {},
   "source": [
    "## 提取信息"
   ]
  },
  {
   "cell_type": "code",
   "execution_count": 51,
   "metadata": {},
   "outputs": [
    {
     "data": {
      "text/html": [
       "<div>\n",
       "<style scoped>\n",
       "    .dataframe tbody tr th:only-of-type {\n",
       "        vertical-align: middle;\n",
       "    }\n",
       "\n",
       "    .dataframe tbody tr th {\n",
       "        vertical-align: top;\n",
       "    }\n",
       "\n",
       "    .dataframe thead th {\n",
       "        text-align: right;\n",
       "    }\n",
       "</style>\n",
       "<table border=\"1\" class=\"dataframe\">\n",
       "  <thead>\n",
       "    <tr style=\"text-align: right;\">\n",
       "      <th></th>\n",
       "      <th>user_id</th>\n",
       "      <th>wood_add_value</th>\n",
       "      <th>wood_reduce_value</th>\n",
       "      <th>stone_add_value</th>\n",
       "      <th>stone_reduce_value</th>\n",
       "      <th>ivory_add_value</th>\n",
       "      <th>ivory_reduce_value</th>\n",
       "      <th>meat_add_value</th>\n",
       "      <th>meat_reduce_value</th>\n",
       "      <th>magic_add_value</th>\n",
       "      <th>magic_reduce_value</th>\n",
       "      <th>infantry_add_value</th>\n",
       "      <th>infantry_reduce_value</th>\n",
       "      <th>cavalry_add_value</th>\n",
       "      <th>cavalry_reduce_value</th>\n",
       "      <th>shaman_add_value</th>\n",
       "      <th>shaman_reduce_value</th>\n",
       "      <th>wound_infantry_add_value</th>\n",
       "      <th>wound_infantry_reduce_value</th>\n",
       "      <th>wound_cavalry_add_value</th>\n",
       "      <th>wound_cavalry_reduce_value</th>\n",
       "      <th>wound_shaman_add_value</th>\n",
       "      <th>wound_shaman_reduce_value</th>\n",
       "      <th>general_acceleration_add_value</th>\n",
       "      <th>general_acceleration_reduce_value</th>\n",
       "      <th>building_acceleration_add_value</th>\n",
       "      <th>building_acceleration_reduce_value</th>\n",
       "      <th>reaserch_acceleration_add_value</th>\n",
       "      <th>reaserch_acceleration_reduce_value</th>\n",
       "      <th>training_acceleration_add_value</th>\n",
       "      <th>training_acceleration_reduce_value</th>\n",
       "      <th>treatment_acceleraion_add_value</th>\n",
       "      <th>treatment_acceleration_reduce_value</th>\n",
       "      <th>bd_training_hut_level</th>\n",
       "      <th>bd_healing_lodge_level</th>\n",
       "      <th>bd_stronghold_level</th>\n",
       "      <th>bd_outpost_portal_level</th>\n",
       "      <th>bd_barrack_level</th>\n",
       "      <th>bd_healing_spring_level</th>\n",
       "      <th>bd_dolmen_level</th>\n",
       "      <th>bd_guest_cavern_level</th>\n",
       "      <th>bd_warehouse_level</th>\n",
       "      <th>bd_watchtower_level</th>\n",
       "      <th>bd_magic_coin_tree_level</th>\n",
       "      <th>bd_hall_of_war_level</th>\n",
       "      <th>bd_market_level</th>\n",
       "      <th>bd_hero_gacha_level</th>\n",
       "      <th>bd_hero_strengthen_level</th>\n",
       "      <th>bd_hero_pve_level</th>\n",
       "      <th>sr_scout_level</th>\n",
       "      <th>sr_training_speed_level</th>\n",
       "      <th>sr_infantry_tier_2_level</th>\n",
       "      <th>sr_cavalry_tier_2_level</th>\n",
       "      <th>sr_shaman_tier_2_level</th>\n",
       "      <th>sr_infantry_atk_level</th>\n",
       "      <th>sr_cavalry_atk_level</th>\n",
       "      <th>sr_shaman_atk_level</th>\n",
       "      <th>sr_infantry_tier_3_level</th>\n",
       "      <th>sr_cavalry_tier_3_level</th>\n",
       "      <th>sr_shaman_tier_3_level</th>\n",
       "      <th>sr_troop_defense_level</th>\n",
       "      <th>sr_infantry_def_level</th>\n",
       "      <th>sr_cavalry_def_level</th>\n",
       "      <th>sr_shaman_def_level</th>\n",
       "      <th>sr_infantry_hp_level</th>\n",
       "      <th>sr_cavalry_hp_level</th>\n",
       "      <th>sr_shaman_hp_level</th>\n",
       "      <th>sr_infantry_tier_4_level</th>\n",
       "      <th>sr_cavalry_tier_4_level</th>\n",
       "      <th>sr_shaman_tier_4_level</th>\n",
       "      <th>sr_troop_attack_level</th>\n",
       "      <th>sr_construction_speed_level</th>\n",
       "      <th>sr_hide_storage_level</th>\n",
       "      <th>sr_troop_consumption_level</th>\n",
       "      <th>sr_rss_a_prod_levell</th>\n",
       "      <th>sr_rss_b_prod_level</th>\n",
       "      <th>sr_rss_c_prod_level</th>\n",
       "      <th>sr_rss_d_prod_level</th>\n",
       "      <th>sr_rss_a_gather_level</th>\n",
       "      <th>sr_rss_b_gather_level</th>\n",
       "      <th>sr_rss_c_gather_level</th>\n",
       "      <th>sr_rss_d_gather_level</th>\n",
       "      <th>sr_troop_load_level</th>\n",
       "      <th>sr_rss_e_gather_level</th>\n",
       "      <th>sr_rss_e_prod_level</th>\n",
       "      <th>sr_outpost_durability_level</th>\n",
       "      <th>sr_outpost_tier_2_level</th>\n",
       "      <th>sr_healing_space_level</th>\n",
       "      <th>sr_gathering_hunter_buff_level</th>\n",
       "      <th>sr_healing_speed_level</th>\n",
       "      <th>sr_outpost_tier_3_level</th>\n",
       "      <th>sr_alliance_march_speed_level</th>\n",
       "      <th>sr_pvp_march_speed_level</th>\n",
       "      <th>sr_gathering_march_speed_level</th>\n",
       "      <th>sr_outpost_tier_4_level</th>\n",
       "      <th>sr_guest_troop_capacity_level</th>\n",
       "      <th>sr_march_size_level</th>\n",
       "      <th>sr_rss_help_bonus_level</th>\n",
       "      <th>pvp_battle_count</th>\n",
       "      <th>pvp_lanch_count</th>\n",
       "      <th>pvp_win_count</th>\n",
       "      <th>pve_battle_count</th>\n",
       "      <th>pve_lanch_count</th>\n",
       "      <th>pve_win_count</th>\n",
       "      <th>avg_online_minutes</th>\n",
       "      <th>pay_price</th>\n",
       "      <th>pay_count</th>\n",
       "      <th>prediction_pay_price</th>\n",
       "    </tr>\n",
       "  </thead>\n",
       "  <tbody>\n",
       "    <tr>\n",
       "      <th>count</th>\n",
       "      <td>2.288007e+06</td>\n",
       "      <td>2.288007e+06</td>\n",
       "      <td>2.288007e+06</td>\n",
       "      <td>2.288007e+06</td>\n",
       "      <td>2.288007e+06</td>\n",
       "      <td>2.288007e+06</td>\n",
       "      <td>2.288007e+06</td>\n",
       "      <td>2.288007e+06</td>\n",
       "      <td>2.288007e+06</td>\n",
       "      <td>2.288007e+06</td>\n",
       "      <td>2.288007e+06</td>\n",
       "      <td>2.288007e+06</td>\n",
       "      <td>2.288007e+06</td>\n",
       "      <td>2.288007e+06</td>\n",
       "      <td>2.288007e+06</td>\n",
       "      <td>2.288007e+06</td>\n",
       "      <td>2.288007e+06</td>\n",
       "      <td>2.288007e+06</td>\n",
       "      <td>2.288007e+06</td>\n",
       "      <td>2.288007e+06</td>\n",
       "      <td>2.288007e+06</td>\n",
       "      <td>2.288007e+06</td>\n",
       "      <td>2.288007e+06</td>\n",
       "      <td>2.288007e+06</td>\n",
       "      <td>2.288007e+06</td>\n",
       "      <td>2.288007e+06</td>\n",
       "      <td>2.288007e+06</td>\n",
       "      <td>2.288007e+06</td>\n",
       "      <td>2.288007e+06</td>\n",
       "      <td>2.288007e+06</td>\n",
       "      <td>2.288007e+06</td>\n",
       "      <td>2.288007e+06</td>\n",
       "      <td>2.288007e+06</td>\n",
       "      <td>2.288007e+06</td>\n",
       "      <td>2.288007e+06</td>\n",
       "      <td>2.288007e+06</td>\n",
       "      <td>2.288007e+06</td>\n",
       "      <td>2.288007e+06</td>\n",
       "      <td>2.288007e+06</td>\n",
       "      <td>2.288007e+06</td>\n",
       "      <td>2.288007e+06</td>\n",
       "      <td>2.288007e+06</td>\n",
       "      <td>2.288007e+06</td>\n",
       "      <td>2.288007e+06</td>\n",
       "      <td>2.288007e+06</td>\n",
       "      <td>2.288007e+06</td>\n",
       "      <td>2.288007e+06</td>\n",
       "      <td>2.288007e+06</td>\n",
       "      <td>2.288007e+06</td>\n",
       "      <td>2.288007e+06</td>\n",
       "      <td>2.288007e+06</td>\n",
       "      <td>2.288007e+06</td>\n",
       "      <td>2.288007e+06</td>\n",
       "      <td>2.288007e+06</td>\n",
       "      <td>2.288007e+06</td>\n",
       "      <td>2.288007e+06</td>\n",
       "      <td>2.288007e+06</td>\n",
       "      <td>2.288007e+06</td>\n",
       "      <td>2.288007e+06</td>\n",
       "      <td>2.288007e+06</td>\n",
       "      <td>2.288007e+06</td>\n",
       "      <td>2.288007e+06</td>\n",
       "      <td>2.288007e+06</td>\n",
       "      <td>2.288007e+06</td>\n",
       "      <td>2.288007e+06</td>\n",
       "      <td>2.288007e+06</td>\n",
       "      <td>2.288007e+06</td>\n",
       "      <td>2.288007e+06</td>\n",
       "      <td>2.288007e+06</td>\n",
       "      <td>2.288007e+06</td>\n",
       "      <td>2.288007e+06</td>\n",
       "      <td>2.288007e+06</td>\n",
       "      <td>2.288007e+06</td>\n",
       "      <td>2.288007e+06</td>\n",
       "      <td>2.288007e+06</td>\n",
       "      <td>2.288007e+06</td>\n",
       "      <td>2.288007e+06</td>\n",
       "      <td>2.288007e+06</td>\n",
       "      <td>2.288007e+06</td>\n",
       "      <td>2.288007e+06</td>\n",
       "      <td>2.288007e+06</td>\n",
       "      <td>2.288007e+06</td>\n",
       "      <td>2.288007e+06</td>\n",
       "      <td>2.288007e+06</td>\n",
       "      <td>2.288007e+06</td>\n",
       "      <td>2.288007e+06</td>\n",
       "      <td>2.288007e+06</td>\n",
       "      <td>2.288007e+06</td>\n",
       "      <td>2.288007e+06</td>\n",
       "      <td>2.288007e+06</td>\n",
       "      <td>2.288007e+06</td>\n",
       "      <td>2.288007e+06</td>\n",
       "      <td>2.288007e+06</td>\n",
       "      <td>2.288007e+06</td>\n",
       "      <td>2.288007e+06</td>\n",
       "      <td>2.288007e+06</td>\n",
       "      <td>2.288007e+06</td>\n",
       "      <td>2.288007e+06</td>\n",
       "      <td>2.288007e+06</td>\n",
       "      <td>2.288007e+06</td>\n",
       "      <td>2.288007e+06</td>\n",
       "      <td>2.288007e+06</td>\n",
       "      <td>2.288007e+06</td>\n",
       "      <td>2.288007e+06</td>\n",
       "      <td>2.288007e+06</td>\n",
       "      <td>2.288007e+06</td>\n",
       "      <td>2.288007e+06</td>\n",
       "      <td>2.288007e+06</td>\n",
       "    </tr>\n",
       "    <tr>\n",
       "      <th>mean</th>\n",
       "      <td>1.529543e+06</td>\n",
       "      <td>4.543069e+05</td>\n",
       "      <td>3.698433e+05</td>\n",
       "      <td>1.897788e+05</td>\n",
       "      <td>1.376074e+05</td>\n",
       "      <td>8.075623e+04</td>\n",
       "      <td>3.613170e+04</td>\n",
       "      <td>5.855155e+05</td>\n",
       "      <td>3.548102e+05</td>\n",
       "      <td>7.538954e+04</td>\n",
       "      <td>4.725399e+04</td>\n",
       "      <td>1.436104e+02</td>\n",
       "      <td>2.267821e+02</td>\n",
       "      <td>1.282639e+02</td>\n",
       "      <td>1.780055e+02</td>\n",
       "      <td>1.195425e+02</td>\n",
       "      <td>1.568530e+02</td>\n",
       "      <td>1.353035e+02</td>\n",
       "      <td>9.198413e+01</td>\n",
       "      <td>1.165028e+02</td>\n",
       "      <td>8.434621e+01</td>\n",
       "      <td>1.104308e+02</td>\n",
       "      <td>8.476289e+01</td>\n",
       "      <td>2.825446e+02</td>\n",
       "      <td>1.920313e+02</td>\n",
       "      <td>2.055574e+02</td>\n",
       "      <td>1.427759e+02</td>\n",
       "      <td>1.326712e+02</td>\n",
       "      <td>7.365257e+01</td>\n",
       "      <td>2.108085e+02</td>\n",
       "      <td>6.502153e+01</td>\n",
       "      <td>1.041641e+01</td>\n",
       "      <td>3.699333e-01</td>\n",
       "      <td>1.306311e+00</td>\n",
       "      <td>1.026750e+00</td>\n",
       "      <td>2.098073e+00</td>\n",
       "      <td>1.764193e+00</td>\n",
       "      <td>1.283829e+00</td>\n",
       "      <td>9.244596e-01</td>\n",
       "      <td>9.694551e-01</td>\n",
       "      <td>4.408474e-01</td>\n",
       "      <td>9.343398e-01</td>\n",
       "      <td>9.125252e-01</td>\n",
       "      <td>1.146429e+00</td>\n",
       "      <td>1.024254e-01</td>\n",
       "      <td>7.723403e-01</td>\n",
       "      <td>2.011803e-01</td>\n",
       "      <td>1.797560e-01</td>\n",
       "      <td>2.919528e-01</td>\n",
       "      <td>3.310995e-01</td>\n",
       "      <td>2.992207e-01</td>\n",
       "      <td>2.388411e-02</td>\n",
       "      <td>2.294705e-02</td>\n",
       "      <td>1.969137e-02</td>\n",
       "      <td>2.389110e-02</td>\n",
       "      <td>2.248857e-02</td>\n",
       "      <td>1.851262e-02</td>\n",
       "      <td>2.749117e-04</td>\n",
       "      <td>2.609258e-04</td>\n",
       "      <td>2.338280e-04</td>\n",
       "      <td>7.141587e-04</td>\n",
       "      <td>4.453658e-04</td>\n",
       "      <td>4.305057e-04</td>\n",
       "      <td>4.034079e-04</td>\n",
       "      <td>6.276205e-04</td>\n",
       "      <td>5.472011e-04</td>\n",
       "      <td>5.004355e-04</td>\n",
       "      <td>1.748246e-05</td>\n",
       "      <td>1.966777e-05</td>\n",
       "      <td>1.486009e-05</td>\n",
       "      <td>2.054190e-05</td>\n",
       "      <td>1.221509e-01</td>\n",
       "      <td>3.474815e-02</td>\n",
       "      <td>3.261528e-02</td>\n",
       "      <td>3.545531e-02</td>\n",
       "      <td>2.529713e-03</td>\n",
       "      <td>5.773584e-04</td>\n",
       "      <td>4.248370e-02</td>\n",
       "      <td>2.153971e-02</td>\n",
       "      <td>1.700170e-03</td>\n",
       "      <td>4.160826e-04</td>\n",
       "      <td>1.793876e-02</td>\n",
       "      <td>2.884388e-02</td>\n",
       "      <td>1.925693e-03</td>\n",
       "      <td>7.764836e-03</td>\n",
       "      <td>1.104227e-01</td>\n",
       "      <td>4.435432e-02</td>\n",
       "      <td>2.869703e-02</td>\n",
       "      <td>3.393871e-02</td>\n",
       "      <td>2.206287e-02</td>\n",
       "      <td>8.789309e-04</td>\n",
       "      <td>4.077785e-04</td>\n",
       "      <td>6.643336e-04</td>\n",
       "      <td>6.070786e-04</td>\n",
       "      <td>5.681801e-06</td>\n",
       "      <td>2.185308e-06</td>\n",
       "      <td>1.398597e-05</td>\n",
       "      <td>6.118862e-06</td>\n",
       "      <td>2.148313e+00</td>\n",
       "      <td>1.059639e+00</td>\n",
       "      <td>9.838589e-01</td>\n",
       "      <td>2.844738e+00</td>\n",
       "      <td>2.832409e+00</td>\n",
       "      <td>2.556749e+00</td>\n",
       "      <td>1.020749e+01</td>\n",
       "      <td>5.346691e-01</td>\n",
       "      <td>5.770699e-02</td>\n",
       "      <td>1.793146e+00</td>\n",
       "    </tr>\n",
       "    <tr>\n",
       "      <th>std</th>\n",
       "      <td>9.399393e+05</td>\n",
       "      <td>4.958667e+06</td>\n",
       "      <td>3.737720e+06</td>\n",
       "      <td>4.670620e+06</td>\n",
       "      <td>3.370166e+06</td>\n",
       "      <td>2.220540e+06</td>\n",
       "      <td>1.782499e+06</td>\n",
       "      <td>5.868629e+06</td>\n",
       "      <td>3.400632e+06</td>\n",
       "      <td>9.662892e+05</td>\n",
       "      <td>8.811223e+05</td>\n",
       "      <td>1.781468e+03</td>\n",
       "      <td>1.738488e+03</td>\n",
       "      <td>1.334977e+03</td>\n",
       "      <td>1.347096e+03</td>\n",
       "      <td>5.958519e+03</td>\n",
       "      <td>5.958508e+03</td>\n",
       "      <td>1.333236e+03</td>\n",
       "      <td>1.287586e+03</td>\n",
       "      <td>1.009972e+03</td>\n",
       "      <td>9.503750e+02</td>\n",
       "      <td>5.890129e+03</td>\n",
       "      <td>5.841053e+03</td>\n",
       "      <td>3.001938e+03</td>\n",
       "      <td>2.619487e+03</td>\n",
       "      <td>1.427626e+03</td>\n",
       "      <td>1.283584e+03</td>\n",
       "      <td>1.516142e+03</td>\n",
       "      <td>1.339241e+03</td>\n",
       "      <td>1.942369e+03</td>\n",
       "      <td>1.554042e+03</td>\n",
       "      <td>4.963815e+01</td>\n",
       "      <td>1.372520e+01</td>\n",
       "      <td>1.971849e+00</td>\n",
       "      <td>1.811002e+00</td>\n",
       "      <td>2.520964e+00</td>\n",
       "      <td>2.358619e+00</td>\n",
       "      <td>2.032131e+00</td>\n",
       "      <td>1.900493e+00</td>\n",
       "      <td>2.057987e+00</td>\n",
       "      <td>1.622136e+00</td>\n",
       "      <td>1.960826e+00</td>\n",
       "      <td>1.886617e+00</td>\n",
       "      <td>2.110285e+00</td>\n",
       "      <td>4.410252e-01</td>\n",
       "      <td>1.821324e+00</td>\n",
       "      <td>9.732027e-01</td>\n",
       "      <td>8.920109e-01</td>\n",
       "      <td>1.304187e+00</td>\n",
       "      <td>7.376340e-01</td>\n",
       "      <td>9.860072e-01</td>\n",
       "      <td>1.526881e-01</td>\n",
       "      <td>1.497347e-01</td>\n",
       "      <td>1.389375e-01</td>\n",
       "      <td>2.531641e-01</td>\n",
       "      <td>2.463319e-01</td>\n",
       "      <td>2.248276e-01</td>\n",
       "      <td>1.657819e-02</td>\n",
       "      <td>1.615109e-02</td>\n",
       "      <td>1.528965e-02</td>\n",
       "      <td>6.896717e-02</td>\n",
       "      <td>5.298984e-02</td>\n",
       "      <td>5.274195e-02</td>\n",
       "      <td>5.005509e-02</td>\n",
       "      <td>6.631231e-02</td>\n",
       "      <td>6.172524e-02</td>\n",
       "      <td>5.829155e-02</td>\n",
       "      <td>4.181168e-03</td>\n",
       "      <td>4.434794e-03</td>\n",
       "      <td>3.854851e-03</td>\n",
       "      <td>1.266496e-02</td>\n",
       "      <td>5.955828e-01</td>\n",
       "      <td>2.674120e-01</td>\n",
       "      <td>2.689738e-01</td>\n",
       "      <td>2.994074e-01</td>\n",
       "      <td>7.521916e-02</td>\n",
       "      <td>3.492143e-02</td>\n",
       "      <td>3.108336e-01</td>\n",
       "      <td>2.309065e-01</td>\n",
       "      <td>6.119213e-02</td>\n",
       "      <td>2.830898e-02</td>\n",
       "      <td>1.939576e-01</td>\n",
       "      <td>3.072257e-01</td>\n",
       "      <td>6.361588e-02</td>\n",
       "      <td>1.408421e-01</td>\n",
       "      <td>4.808994e-01</td>\n",
       "      <td>2.058811e-01</td>\n",
       "      <td>2.384797e-01</td>\n",
       "      <td>2.508571e-01</td>\n",
       "      <td>2.021670e-01</td>\n",
       "      <td>2.963374e-02</td>\n",
       "      <td>3.922663e-02</td>\n",
       "      <td>5.136670e-02</td>\n",
       "      <td>4.809365e-02</td>\n",
       "      <td>2.383647e-03</td>\n",
       "      <td>2.192641e-03</td>\n",
       "      <td>8.967674e-03</td>\n",
       "      <td>6.271804e-03</td>\n",
       "      <td>1.167797e+01</td>\n",
       "      <td>9.074459e+00</td>\n",
       "      <td>8.951280e+00</td>\n",
       "      <td>1.276245e+01</td>\n",
       "      <td>1.271820e+01</td>\n",
       "      <td>1.184737e+01</td>\n",
       "      <td>3.895946e+01</td>\n",
       "      <td>2.263835e+01</td>\n",
       "      <td>7.090886e-01</td>\n",
       "      <td>8.846303e+01</td>\n",
       "    </tr>\n",
       "    <tr>\n",
       "      <th>min</th>\n",
       "      <td>1.000000e+00</td>\n",
       "      <td>0.000000e+00</td>\n",
       "      <td>0.000000e+00</td>\n",
       "      <td>0.000000e+00</td>\n",
       "      <td>0.000000e+00</td>\n",
       "      <td>0.000000e+00</td>\n",
       "      <td>0.000000e+00</td>\n",
       "      <td>0.000000e+00</td>\n",
       "      <td>0.000000e+00</td>\n",
       "      <td>0.000000e+00</td>\n",
       "      <td>0.000000e+00</td>\n",
       "      <td>0.000000e+00</td>\n",
       "      <td>0.000000e+00</td>\n",
       "      <td>0.000000e+00</td>\n",
       "      <td>0.000000e+00</td>\n",
       "      <td>0.000000e+00</td>\n",
       "      <td>0.000000e+00</td>\n",
       "      <td>0.000000e+00</td>\n",
       "      <td>0.000000e+00</td>\n",
       "      <td>0.000000e+00</td>\n",
       "      <td>0.000000e+00</td>\n",
       "      <td>0.000000e+00</td>\n",
       "      <td>0.000000e+00</td>\n",
       "      <td>0.000000e+00</td>\n",
       "      <td>0.000000e+00</td>\n",
       "      <td>0.000000e+00</td>\n",
       "      <td>0.000000e+00</td>\n",
       "      <td>0.000000e+00</td>\n",
       "      <td>0.000000e+00</td>\n",
       "      <td>0.000000e+00</td>\n",
       "      <td>0.000000e+00</td>\n",
       "      <td>0.000000e+00</td>\n",
       "      <td>0.000000e+00</td>\n",
       "      <td>0.000000e+00</td>\n",
       "      <td>0.000000e+00</td>\n",
       "      <td>0.000000e+00</td>\n",
       "      <td>0.000000e+00</td>\n",
       "      <td>0.000000e+00</td>\n",
       "      <td>0.000000e+00</td>\n",
       "      <td>0.000000e+00</td>\n",
       "      <td>0.000000e+00</td>\n",
       "      <td>0.000000e+00</td>\n",
       "      <td>0.000000e+00</td>\n",
       "      <td>0.000000e+00</td>\n",
       "      <td>0.000000e+00</td>\n",
       "      <td>0.000000e+00</td>\n",
       "      <td>0.000000e+00</td>\n",
       "      <td>0.000000e+00</td>\n",
       "      <td>0.000000e+00</td>\n",
       "      <td>0.000000e+00</td>\n",
       "      <td>0.000000e+00</td>\n",
       "      <td>0.000000e+00</td>\n",
       "      <td>0.000000e+00</td>\n",
       "      <td>0.000000e+00</td>\n",
       "      <td>0.000000e+00</td>\n",
       "      <td>0.000000e+00</td>\n",
       "      <td>0.000000e+00</td>\n",
       "      <td>0.000000e+00</td>\n",
       "      <td>0.000000e+00</td>\n",
       "      <td>0.000000e+00</td>\n",
       "      <td>0.000000e+00</td>\n",
       "      <td>0.000000e+00</td>\n",
       "      <td>0.000000e+00</td>\n",
       "      <td>0.000000e+00</td>\n",
       "      <td>0.000000e+00</td>\n",
       "      <td>0.000000e+00</td>\n",
       "      <td>0.000000e+00</td>\n",
       "      <td>0.000000e+00</td>\n",
       "      <td>0.000000e+00</td>\n",
       "      <td>0.000000e+00</td>\n",
       "      <td>0.000000e+00</td>\n",
       "      <td>0.000000e+00</td>\n",
       "      <td>0.000000e+00</td>\n",
       "      <td>0.000000e+00</td>\n",
       "      <td>0.000000e+00</td>\n",
       "      <td>0.000000e+00</td>\n",
       "      <td>0.000000e+00</td>\n",
       "      <td>0.000000e+00</td>\n",
       "      <td>0.000000e+00</td>\n",
       "      <td>0.000000e+00</td>\n",
       "      <td>0.000000e+00</td>\n",
       "      <td>0.000000e+00</td>\n",
       "      <td>0.000000e+00</td>\n",
       "      <td>0.000000e+00</td>\n",
       "      <td>0.000000e+00</td>\n",
       "      <td>0.000000e+00</td>\n",
       "      <td>0.000000e+00</td>\n",
       "      <td>0.000000e+00</td>\n",
       "      <td>0.000000e+00</td>\n",
       "      <td>0.000000e+00</td>\n",
       "      <td>0.000000e+00</td>\n",
       "      <td>0.000000e+00</td>\n",
       "      <td>0.000000e+00</td>\n",
       "      <td>0.000000e+00</td>\n",
       "      <td>0.000000e+00</td>\n",
       "      <td>0.000000e+00</td>\n",
       "      <td>0.000000e+00</td>\n",
       "      <td>0.000000e+00</td>\n",
       "      <td>0.000000e+00</td>\n",
       "      <td>0.000000e+00</td>\n",
       "      <td>0.000000e+00</td>\n",
       "      <td>0.000000e+00</td>\n",
       "      <td>0.000000e+00</td>\n",
       "      <td>0.000000e+00</td>\n",
       "      <td>0.000000e+00</td>\n",
       "      <td>0.000000e+00</td>\n",
       "      <td>0.000000e+00</td>\n",
       "      <td>0.000000e+00</td>\n",
       "    </tr>\n",
       "    <tr>\n",
       "      <th>25%</th>\n",
       "      <td>7.499925e+05</td>\n",
       "      <td>0.000000e+00</td>\n",
       "      <td>0.000000e+00</td>\n",
       "      <td>0.000000e+00</td>\n",
       "      <td>0.000000e+00</td>\n",
       "      <td>0.000000e+00</td>\n",
       "      <td>0.000000e+00</td>\n",
       "      <td>0.000000e+00</td>\n",
       "      <td>0.000000e+00</td>\n",
       "      <td>0.000000e+00</td>\n",
       "      <td>0.000000e+00</td>\n",
       "      <td>0.000000e+00</td>\n",
       "      <td>0.000000e+00</td>\n",
       "      <td>0.000000e+00</td>\n",
       "      <td>0.000000e+00</td>\n",
       "      <td>0.000000e+00</td>\n",
       "      <td>0.000000e+00</td>\n",
       "      <td>0.000000e+00</td>\n",
       "      <td>0.000000e+00</td>\n",
       "      <td>0.000000e+00</td>\n",
       "      <td>0.000000e+00</td>\n",
       "      <td>0.000000e+00</td>\n",
       "      <td>0.000000e+00</td>\n",
       "      <td>0.000000e+00</td>\n",
       "      <td>0.000000e+00</td>\n",
       "      <td>0.000000e+00</td>\n",
       "      <td>0.000000e+00</td>\n",
       "      <td>0.000000e+00</td>\n",
       "      <td>0.000000e+00</td>\n",
       "      <td>0.000000e+00</td>\n",
       "      <td>0.000000e+00</td>\n",
       "      <td>0.000000e+00</td>\n",
       "      <td>0.000000e+00</td>\n",
       "      <td>0.000000e+00</td>\n",
       "      <td>0.000000e+00</td>\n",
       "      <td>0.000000e+00</td>\n",
       "      <td>0.000000e+00</td>\n",
       "      <td>0.000000e+00</td>\n",
       "      <td>0.000000e+00</td>\n",
       "      <td>0.000000e+00</td>\n",
       "      <td>0.000000e+00</td>\n",
       "      <td>0.000000e+00</td>\n",
       "      <td>0.000000e+00</td>\n",
       "      <td>0.000000e+00</td>\n",
       "      <td>0.000000e+00</td>\n",
       "      <td>0.000000e+00</td>\n",
       "      <td>0.000000e+00</td>\n",
       "      <td>0.000000e+00</td>\n",
       "      <td>0.000000e+00</td>\n",
       "      <td>0.000000e+00</td>\n",
       "      <td>0.000000e+00</td>\n",
       "      <td>0.000000e+00</td>\n",
       "      <td>0.000000e+00</td>\n",
       "      <td>0.000000e+00</td>\n",
       "      <td>0.000000e+00</td>\n",
       "      <td>0.000000e+00</td>\n",
       "      <td>0.000000e+00</td>\n",
       "      <td>0.000000e+00</td>\n",
       "      <td>0.000000e+00</td>\n",
       "      <td>0.000000e+00</td>\n",
       "      <td>0.000000e+00</td>\n",
       "      <td>0.000000e+00</td>\n",
       "      <td>0.000000e+00</td>\n",
       "      <td>0.000000e+00</td>\n",
       "      <td>0.000000e+00</td>\n",
       "      <td>0.000000e+00</td>\n",
       "      <td>0.000000e+00</td>\n",
       "      <td>0.000000e+00</td>\n",
       "      <td>0.000000e+00</td>\n",
       "      <td>0.000000e+00</td>\n",
       "      <td>0.000000e+00</td>\n",
       "      <td>0.000000e+00</td>\n",
       "      <td>0.000000e+00</td>\n",
       "      <td>0.000000e+00</td>\n",
       "      <td>0.000000e+00</td>\n",
       "      <td>0.000000e+00</td>\n",
       "      <td>0.000000e+00</td>\n",
       "      <td>0.000000e+00</td>\n",
       "      <td>0.000000e+00</td>\n",
       "      <td>0.000000e+00</td>\n",
       "      <td>0.000000e+00</td>\n",
       "      <td>0.000000e+00</td>\n",
       "      <td>0.000000e+00</td>\n",
       "      <td>0.000000e+00</td>\n",
       "      <td>0.000000e+00</td>\n",
       "      <td>0.000000e+00</td>\n",
       "      <td>0.000000e+00</td>\n",
       "      <td>0.000000e+00</td>\n",
       "      <td>0.000000e+00</td>\n",
       "      <td>0.000000e+00</td>\n",
       "      <td>0.000000e+00</td>\n",
       "      <td>0.000000e+00</td>\n",
       "      <td>0.000000e+00</td>\n",
       "      <td>0.000000e+00</td>\n",
       "      <td>0.000000e+00</td>\n",
       "      <td>0.000000e+00</td>\n",
       "      <td>0.000000e+00</td>\n",
       "      <td>0.000000e+00</td>\n",
       "      <td>0.000000e+00</td>\n",
       "      <td>0.000000e+00</td>\n",
       "      <td>0.000000e+00</td>\n",
       "      <td>0.000000e+00</td>\n",
       "      <td>0.000000e+00</td>\n",
       "      <td>0.000000e+00</td>\n",
       "      <td>5.000000e-01</td>\n",
       "      <td>0.000000e+00</td>\n",
       "      <td>0.000000e+00</td>\n",
       "      <td>0.000000e+00</td>\n",
       "    </tr>\n",
       "    <tr>\n",
       "      <th>50%</th>\n",
       "      <td>1.419095e+06</td>\n",
       "      <td>4.203800e+04</td>\n",
       "      <td>9.830000e+03</td>\n",
       "      <td>0.000000e+00</td>\n",
       "      <td>0.000000e+00</td>\n",
       "      <td>0.000000e+00</td>\n",
       "      <td>0.000000e+00</td>\n",
       "      <td>3.458700e+04</td>\n",
       "      <td>6.470000e+03</td>\n",
       "      <td>0.000000e+00</td>\n",
       "      <td>0.000000e+00</td>\n",
       "      <td>0.000000e+00</td>\n",
       "      <td>0.000000e+00</td>\n",
       "      <td>0.000000e+00</td>\n",
       "      <td>0.000000e+00</td>\n",
       "      <td>0.000000e+00</td>\n",
       "      <td>0.000000e+00</td>\n",
       "      <td>0.000000e+00</td>\n",
       "      <td>0.000000e+00</td>\n",
       "      <td>0.000000e+00</td>\n",
       "      <td>0.000000e+00</td>\n",
       "      <td>0.000000e+00</td>\n",
       "      <td>0.000000e+00</td>\n",
       "      <td>0.000000e+00</td>\n",
       "      <td>0.000000e+00</td>\n",
       "      <td>0.000000e+00</td>\n",
       "      <td>0.000000e+00</td>\n",
       "      <td>0.000000e+00</td>\n",
       "      <td>0.000000e+00</td>\n",
       "      <td>4.500000e+01</td>\n",
       "      <td>0.000000e+00</td>\n",
       "      <td>0.000000e+00</td>\n",
       "      <td>0.000000e+00</td>\n",
       "      <td>0.000000e+00</td>\n",
       "      <td>0.000000e+00</td>\n",
       "      <td>1.000000e+00</td>\n",
       "      <td>0.000000e+00</td>\n",
       "      <td>0.000000e+00</td>\n",
       "      <td>0.000000e+00</td>\n",
       "      <td>0.000000e+00</td>\n",
       "      <td>0.000000e+00</td>\n",
       "      <td>0.000000e+00</td>\n",
       "      <td>0.000000e+00</td>\n",
       "      <td>0.000000e+00</td>\n",
       "      <td>0.000000e+00</td>\n",
       "      <td>0.000000e+00</td>\n",
       "      <td>0.000000e+00</td>\n",
       "      <td>0.000000e+00</td>\n",
       "      <td>0.000000e+00</td>\n",
       "      <td>0.000000e+00</td>\n",
       "      <td>0.000000e+00</td>\n",
       "      <td>0.000000e+00</td>\n",
       "      <td>0.000000e+00</td>\n",
       "      <td>0.000000e+00</td>\n",
       "      <td>0.000000e+00</td>\n",
       "      <td>0.000000e+00</td>\n",
       "      <td>0.000000e+00</td>\n",
       "      <td>0.000000e+00</td>\n",
       "      <td>0.000000e+00</td>\n",
       "      <td>0.000000e+00</td>\n",
       "      <td>0.000000e+00</td>\n",
       "      <td>0.000000e+00</td>\n",
       "      <td>0.000000e+00</td>\n",
       "      <td>0.000000e+00</td>\n",
       "      <td>0.000000e+00</td>\n",
       "      <td>0.000000e+00</td>\n",
       "      <td>0.000000e+00</td>\n",
       "      <td>0.000000e+00</td>\n",
       "      <td>0.000000e+00</td>\n",
       "      <td>0.000000e+00</td>\n",
       "      <td>0.000000e+00</td>\n",
       "      <td>0.000000e+00</td>\n",
       "      <td>0.000000e+00</td>\n",
       "      <td>0.000000e+00</td>\n",
       "      <td>0.000000e+00</td>\n",
       "      <td>0.000000e+00</td>\n",
       "      <td>0.000000e+00</td>\n",
       "      <td>0.000000e+00</td>\n",
       "      <td>0.000000e+00</td>\n",
       "      <td>0.000000e+00</td>\n",
       "      <td>0.000000e+00</td>\n",
       "      <td>0.000000e+00</td>\n",
       "      <td>0.000000e+00</td>\n",
       "      <td>0.000000e+00</td>\n",
       "      <td>0.000000e+00</td>\n",
       "      <td>0.000000e+00</td>\n",
       "      <td>0.000000e+00</td>\n",
       "      <td>0.000000e+00</td>\n",
       "      <td>0.000000e+00</td>\n",
       "      <td>0.000000e+00</td>\n",
       "      <td>0.000000e+00</td>\n",
       "      <td>0.000000e+00</td>\n",
       "      <td>0.000000e+00</td>\n",
       "      <td>0.000000e+00</td>\n",
       "      <td>0.000000e+00</td>\n",
       "      <td>0.000000e+00</td>\n",
       "      <td>0.000000e+00</td>\n",
       "      <td>0.000000e+00</td>\n",
       "      <td>0.000000e+00</td>\n",
       "      <td>0.000000e+00</td>\n",
       "      <td>0.000000e+00</td>\n",
       "      <td>0.000000e+00</td>\n",
       "      <td>0.000000e+00</td>\n",
       "      <td>0.000000e+00</td>\n",
       "      <td>1.833333e+00</td>\n",
       "      <td>0.000000e+00</td>\n",
       "      <td>0.000000e+00</td>\n",
       "      <td>0.000000e+00</td>\n",
       "    </tr>\n",
       "    <tr>\n",
       "      <th>75%</th>\n",
       "      <td>2.299006e+06</td>\n",
       "      <td>1.531180e+05</td>\n",
       "      <td>9.855700e+04</td>\n",
       "      <td>0.000000e+00</td>\n",
       "      <td>0.000000e+00</td>\n",
       "      <td>0.000000e+00</td>\n",
       "      <td>0.000000e+00</td>\n",
       "      <td>1.360010e+05</td>\n",
       "      <td>6.605400e+04</td>\n",
       "      <td>0.000000e+00</td>\n",
       "      <td>0.000000e+00</td>\n",
       "      <td>0.000000e+00</td>\n",
       "      <td>0.000000e+00</td>\n",
       "      <td>0.000000e+00</td>\n",
       "      <td>0.000000e+00</td>\n",
       "      <td>0.000000e+00</td>\n",
       "      <td>0.000000e+00</td>\n",
       "      <td>0.000000e+00</td>\n",
       "      <td>0.000000e+00</td>\n",
       "      <td>0.000000e+00</td>\n",
       "      <td>0.000000e+00</td>\n",
       "      <td>0.000000e+00</td>\n",
       "      <td>0.000000e+00</td>\n",
       "      <td>5.300000e+01</td>\n",
       "      <td>0.000000e+00</td>\n",
       "      <td>2.320000e+02</td>\n",
       "      <td>4.600000e+01</td>\n",
       "      <td>5.000000e+01</td>\n",
       "      <td>0.000000e+00</td>\n",
       "      <td>1.000000e+02</td>\n",
       "      <td>0.000000e+00</td>\n",
       "      <td>0.000000e+00</td>\n",
       "      <td>0.000000e+00</td>\n",
       "      <td>2.000000e+00</td>\n",
       "      <td>1.000000e+00</td>\n",
       "      <td>4.000000e+00</td>\n",
       "      <td>3.000000e+00</td>\n",
       "      <td>1.000000e+00</td>\n",
       "      <td>1.000000e+00</td>\n",
       "      <td>1.000000e+00</td>\n",
       "      <td>0.000000e+00</td>\n",
       "      <td>1.000000e+00</td>\n",
       "      <td>1.000000e+00</td>\n",
       "      <td>1.000000e+00</td>\n",
       "      <td>0.000000e+00</td>\n",
       "      <td>0.000000e+00</td>\n",
       "      <td>0.000000e+00</td>\n",
       "      <td>0.000000e+00</td>\n",
       "      <td>0.000000e+00</td>\n",
       "      <td>0.000000e+00</td>\n",
       "      <td>0.000000e+00</td>\n",
       "      <td>0.000000e+00</td>\n",
       "      <td>0.000000e+00</td>\n",
       "      <td>0.000000e+00</td>\n",
       "      <td>0.000000e+00</td>\n",
       "      <td>0.000000e+00</td>\n",
       "      <td>0.000000e+00</td>\n",
       "      <td>0.000000e+00</td>\n",
       "      <td>0.000000e+00</td>\n",
       "      <td>0.000000e+00</td>\n",
       "      <td>0.000000e+00</td>\n",
       "      <td>0.000000e+00</td>\n",
       "      <td>0.000000e+00</td>\n",
       "      <td>0.000000e+00</td>\n",
       "      <td>0.000000e+00</td>\n",
       "      <td>0.000000e+00</td>\n",
       "      <td>0.000000e+00</td>\n",
       "      <td>0.000000e+00</td>\n",
       "      <td>0.000000e+00</td>\n",
       "      <td>0.000000e+00</td>\n",
       "      <td>0.000000e+00</td>\n",
       "      <td>0.000000e+00</td>\n",
       "      <td>0.000000e+00</td>\n",
       "      <td>0.000000e+00</td>\n",
       "      <td>0.000000e+00</td>\n",
       "      <td>0.000000e+00</td>\n",
       "      <td>0.000000e+00</td>\n",
       "      <td>0.000000e+00</td>\n",
       "      <td>0.000000e+00</td>\n",
       "      <td>0.000000e+00</td>\n",
       "      <td>0.000000e+00</td>\n",
       "      <td>0.000000e+00</td>\n",
       "      <td>0.000000e+00</td>\n",
       "      <td>0.000000e+00</td>\n",
       "      <td>0.000000e+00</td>\n",
       "      <td>0.000000e+00</td>\n",
       "      <td>0.000000e+00</td>\n",
       "      <td>0.000000e+00</td>\n",
       "      <td>0.000000e+00</td>\n",
       "      <td>0.000000e+00</td>\n",
       "      <td>0.000000e+00</td>\n",
       "      <td>0.000000e+00</td>\n",
       "      <td>0.000000e+00</td>\n",
       "      <td>0.000000e+00</td>\n",
       "      <td>0.000000e+00</td>\n",
       "      <td>0.000000e+00</td>\n",
       "      <td>0.000000e+00</td>\n",
       "      <td>0.000000e+00</td>\n",
       "      <td>1.000000e+00</td>\n",
       "      <td>0.000000e+00</td>\n",
       "      <td>0.000000e+00</td>\n",
       "      <td>1.000000e+00</td>\n",
       "      <td>1.000000e+00</td>\n",
       "      <td>1.000000e+00</td>\n",
       "      <td>4.833333e+00</td>\n",
       "      <td>0.000000e+00</td>\n",
       "      <td>0.000000e+00</td>\n",
       "      <td>0.000000e+00</td>\n",
       "    </tr>\n",
       "    <tr>\n",
       "      <th>max</th>\n",
       "      <td>3.190530e+06</td>\n",
       "      <td>1.239962e+09</td>\n",
       "      <td>7.995875e+08</td>\n",
       "      <td>1.214869e+09</td>\n",
       "      <td>7.962378e+08</td>\n",
       "      <td>5.744961e+08</td>\n",
       "      <td>4.481972e+08</td>\n",
       "      <td>1.470644e+09</td>\n",
       "      <td>8.889537e+08</td>\n",
       "      <td>2.637228e+08</td>\n",
       "      <td>2.637229e+08</td>\n",
       "      <td>8.749180e+05</td>\n",
       "      <td>8.788830e+05</td>\n",
       "      <td>3.538520e+05</td>\n",
       "      <td>3.703750e+05</td>\n",
       "      <td>8.767537e+06</td>\n",
       "      <td>8.769162e+06</td>\n",
       "      <td>8.039960e+05</td>\n",
       "      <td>8.039960e+05</td>\n",
       "      <td>3.479670e+05</td>\n",
       "      <td>3.479670e+05</td>\n",
       "      <td>8.763256e+06</td>\n",
       "      <td>8.704561e+06</td>\n",
       "      <td>7.954840e+05</td>\n",
       "      <td>7.646370e+05</td>\n",
       "      <td>4.113620e+05</td>\n",
       "      <td>3.065150e+05</td>\n",
       "      <td>3.777960e+05</td>\n",
       "      <td>3.384370e+05</td>\n",
       "      <td>6.716070e+05</td>\n",
       "      <td>5.295870e+05</td>\n",
       "      <td>1.404800e+04</td>\n",
       "      <td>1.464200e+04</td>\n",
       "      <td>2.000000e+01</td>\n",
       "      <td>1.900000e+01</td>\n",
       "      <td>2.300000e+01</td>\n",
       "      <td>2.300000e+01</td>\n",
       "      <td>2.100000e+01</td>\n",
       "      <td>2.100000e+01</td>\n",
       "      <td>2.200000e+01</td>\n",
       "      <td>2.000000e+01</td>\n",
       "      <td>2.100000e+01</td>\n",
       "      <td>2.100000e+01</td>\n",
       "      <td>2.100000e+01</td>\n",
       "      <td>1.800000e+01</td>\n",
       "      <td>1.900000e+01</td>\n",
       "      <td>1.900000e+01</td>\n",
       "      <td>1.700000e+01</td>\n",
       "      <td>2.100000e+01</td>\n",
       "      <td>9.000000e+00</td>\n",
       "      <td>1.700000e+01</td>\n",
       "      <td>1.000000e+00</td>\n",
       "      <td>1.000000e+00</td>\n",
       "      <td>1.000000e+00</td>\n",
       "      <td>1.300000e+01</td>\n",
       "      <td>1.100000e+01</td>\n",
       "      <td>1.000000e+01</td>\n",
       "      <td>1.000000e+00</td>\n",
       "      <td>1.000000e+00</td>\n",
       "      <td>1.000000e+00</td>\n",
       "      <td>1.400000e+01</td>\n",
       "      <td>1.100000e+01</td>\n",
       "      <td>1.100000e+01</td>\n",
       "      <td>1.100000e+01</td>\n",
       "      <td>1.100000e+01</td>\n",
       "      <td>1.100000e+01</td>\n",
       "      <td>1.100000e+01</td>\n",
       "      <td>1.000000e+00</td>\n",
       "      <td>1.000000e+00</td>\n",
       "      <td>1.000000e+00</td>\n",
       "      <td>1.100000e+01</td>\n",
       "      <td>1.500000e+01</td>\n",
       "      <td>1.100000e+01</td>\n",
       "      <td>1.100000e+01</td>\n",
       "      <td>9.000000e+00</td>\n",
       "      <td>9.000000e+00</td>\n",
       "      <td>9.000000e+00</td>\n",
       "      <td>1.100000e+01</td>\n",
       "      <td>9.000000e+00</td>\n",
       "      <td>9.000000e+00</td>\n",
       "      <td>7.000000e+00</td>\n",
       "      <td>9.000000e+00</td>\n",
       "      <td>1.000000e+01</td>\n",
       "      <td>9.000000e+00</td>\n",
       "      <td>9.000000e+00</td>\n",
       "      <td>1.000000e+01</td>\n",
       "      <td>1.000000e+00</td>\n",
       "      <td>1.100000e+01</td>\n",
       "      <td>1.000000e+01</td>\n",
       "      <td>9.000000e+00</td>\n",
       "      <td>1.000000e+00</td>\n",
       "      <td>1.000000e+01</td>\n",
       "      <td>1.100000e+01</td>\n",
       "      <td>1.000000e+01</td>\n",
       "      <td>1.000000e+00</td>\n",
       "      <td>3.000000e+00</td>\n",
       "      <td>9.000000e+00</td>\n",
       "      <td>8.000000e+00</td>\n",
       "      <td>2.054000e+03</td>\n",
       "      <td>2.051000e+03</td>\n",
       "      <td>1.904000e+03</td>\n",
       "      <td>5.090000e+02</td>\n",
       "      <td>5.090000e+02</td>\n",
       "      <td>4.880000e+02</td>\n",
       "      <td>2.049667e+03</td>\n",
       "      <td>7.457950e+03</td>\n",
       "      <td>1.050000e+02</td>\n",
       "      <td>3.297781e+04</td>\n",
       "    </tr>\n",
       "  </tbody>\n",
       "</table>\n",
       "</div>"
      ],
      "text/plain": [
       "            user_id  wood_add_value  wood_reduce_value  stone_add_value  \\\n",
       "count  2.288007e+06    2.288007e+06       2.288007e+06     2.288007e+06   \n",
       "mean   1.529543e+06    4.543069e+05       3.698433e+05     1.897788e+05   \n",
       "std    9.399393e+05    4.958667e+06       3.737720e+06     4.670620e+06   \n",
       "min    1.000000e+00    0.000000e+00       0.000000e+00     0.000000e+00   \n",
       "25%    7.499925e+05    0.000000e+00       0.000000e+00     0.000000e+00   \n",
       "50%    1.419095e+06    4.203800e+04       9.830000e+03     0.000000e+00   \n",
       "75%    2.299006e+06    1.531180e+05       9.855700e+04     0.000000e+00   \n",
       "max    3.190530e+06    1.239962e+09       7.995875e+08     1.214869e+09   \n",
       "\n",
       "       stone_reduce_value  ivory_add_value  ivory_reduce_value  \\\n",
       "count        2.288007e+06     2.288007e+06        2.288007e+06   \n",
       "mean         1.376074e+05     8.075623e+04        3.613170e+04   \n",
       "std          3.370166e+06     2.220540e+06        1.782499e+06   \n",
       "min          0.000000e+00     0.000000e+00        0.000000e+00   \n",
       "25%          0.000000e+00     0.000000e+00        0.000000e+00   \n",
       "50%          0.000000e+00     0.000000e+00        0.000000e+00   \n",
       "75%          0.000000e+00     0.000000e+00        0.000000e+00   \n",
       "max          7.962378e+08     5.744961e+08        4.481972e+08   \n",
       "\n",
       "       meat_add_value  meat_reduce_value  magic_add_value  magic_reduce_value  \\\n",
       "count    2.288007e+06       2.288007e+06     2.288007e+06        2.288007e+06   \n",
       "mean     5.855155e+05       3.548102e+05     7.538954e+04        4.725399e+04   \n",
       "std      5.868629e+06       3.400632e+06     9.662892e+05        8.811223e+05   \n",
       "min      0.000000e+00       0.000000e+00     0.000000e+00        0.000000e+00   \n",
       "25%      0.000000e+00       0.000000e+00     0.000000e+00        0.000000e+00   \n",
       "50%      3.458700e+04       6.470000e+03     0.000000e+00        0.000000e+00   \n",
       "75%      1.360010e+05       6.605400e+04     0.000000e+00        0.000000e+00   \n",
       "max      1.470644e+09       8.889537e+08     2.637228e+08        2.637229e+08   \n",
       "\n",
       "       infantry_add_value  infantry_reduce_value  cavalry_add_value  \\\n",
       "count        2.288007e+06           2.288007e+06       2.288007e+06   \n",
       "mean         1.436104e+02           2.267821e+02       1.282639e+02   \n",
       "std          1.781468e+03           1.738488e+03       1.334977e+03   \n",
       "min          0.000000e+00           0.000000e+00       0.000000e+00   \n",
       "25%          0.000000e+00           0.000000e+00       0.000000e+00   \n",
       "50%          0.000000e+00           0.000000e+00       0.000000e+00   \n",
       "75%          0.000000e+00           0.000000e+00       0.000000e+00   \n",
       "max          8.749180e+05           8.788830e+05       3.538520e+05   \n",
       "\n",
       "       cavalry_reduce_value  shaman_add_value  shaman_reduce_value  \\\n",
       "count          2.288007e+06      2.288007e+06         2.288007e+06   \n",
       "mean           1.780055e+02      1.195425e+02         1.568530e+02   \n",
       "std            1.347096e+03      5.958519e+03         5.958508e+03   \n",
       "min            0.000000e+00      0.000000e+00         0.000000e+00   \n",
       "25%            0.000000e+00      0.000000e+00         0.000000e+00   \n",
       "50%            0.000000e+00      0.000000e+00         0.000000e+00   \n",
       "75%            0.000000e+00      0.000000e+00         0.000000e+00   \n",
       "max            3.703750e+05      8.767537e+06         8.769162e+06   \n",
       "\n",
       "       wound_infantry_add_value  wound_infantry_reduce_value  \\\n",
       "count              2.288007e+06                 2.288007e+06   \n",
       "mean               1.353035e+02                 9.198413e+01   \n",
       "std                1.333236e+03                 1.287586e+03   \n",
       "min                0.000000e+00                 0.000000e+00   \n",
       "25%                0.000000e+00                 0.000000e+00   \n",
       "50%                0.000000e+00                 0.000000e+00   \n",
       "75%                0.000000e+00                 0.000000e+00   \n",
       "max                8.039960e+05                 8.039960e+05   \n",
       "\n",
       "       wound_cavalry_add_value  wound_cavalry_reduce_value  \\\n",
       "count             2.288007e+06                2.288007e+06   \n",
       "mean              1.165028e+02                8.434621e+01   \n",
       "std               1.009972e+03                9.503750e+02   \n",
       "min               0.000000e+00                0.000000e+00   \n",
       "25%               0.000000e+00                0.000000e+00   \n",
       "50%               0.000000e+00                0.000000e+00   \n",
       "75%               0.000000e+00                0.000000e+00   \n",
       "max               3.479670e+05                3.479670e+05   \n",
       "\n",
       "       wound_shaman_add_value  wound_shaman_reduce_value  \\\n",
       "count            2.288007e+06               2.288007e+06   \n",
       "mean             1.104308e+02               8.476289e+01   \n",
       "std              5.890129e+03               5.841053e+03   \n",
       "min              0.000000e+00               0.000000e+00   \n",
       "25%              0.000000e+00               0.000000e+00   \n",
       "50%              0.000000e+00               0.000000e+00   \n",
       "75%              0.000000e+00               0.000000e+00   \n",
       "max              8.763256e+06               8.704561e+06   \n",
       "\n",
       "       general_acceleration_add_value  general_acceleration_reduce_value  \\\n",
       "count                    2.288007e+06                       2.288007e+06   \n",
       "mean                     2.825446e+02                       1.920313e+02   \n",
       "std                      3.001938e+03                       2.619487e+03   \n",
       "min                      0.000000e+00                       0.000000e+00   \n",
       "25%                      0.000000e+00                       0.000000e+00   \n",
       "50%                      0.000000e+00                       0.000000e+00   \n",
       "75%                      5.300000e+01                       0.000000e+00   \n",
       "max                      7.954840e+05                       7.646370e+05   \n",
       "\n",
       "       building_acceleration_add_value  building_acceleration_reduce_value  \\\n",
       "count                     2.288007e+06                        2.288007e+06   \n",
       "mean                      2.055574e+02                        1.427759e+02   \n",
       "std                       1.427626e+03                        1.283584e+03   \n",
       "min                       0.000000e+00                        0.000000e+00   \n",
       "25%                       0.000000e+00                        0.000000e+00   \n",
       "50%                       0.000000e+00                        0.000000e+00   \n",
       "75%                       2.320000e+02                        4.600000e+01   \n",
       "max                       4.113620e+05                        3.065150e+05   \n",
       "\n",
       "       reaserch_acceleration_add_value  reaserch_acceleration_reduce_value  \\\n",
       "count                     2.288007e+06                        2.288007e+06   \n",
       "mean                      1.326712e+02                        7.365257e+01   \n",
       "std                       1.516142e+03                        1.339241e+03   \n",
       "min                       0.000000e+00                        0.000000e+00   \n",
       "25%                       0.000000e+00                        0.000000e+00   \n",
       "50%                       0.000000e+00                        0.000000e+00   \n",
       "75%                       5.000000e+01                        0.000000e+00   \n",
       "max                       3.777960e+05                        3.384370e+05   \n",
       "\n",
       "       training_acceleration_add_value  training_acceleration_reduce_value  \\\n",
       "count                     2.288007e+06                        2.288007e+06   \n",
       "mean                      2.108085e+02                        6.502153e+01   \n",
       "std                       1.942369e+03                        1.554042e+03   \n",
       "min                       0.000000e+00                        0.000000e+00   \n",
       "25%                       0.000000e+00                        0.000000e+00   \n",
       "50%                       4.500000e+01                        0.000000e+00   \n",
       "75%                       1.000000e+02                        0.000000e+00   \n",
       "max                       6.716070e+05                        5.295870e+05   \n",
       "\n",
       "       treatment_acceleraion_add_value  treatment_acceleration_reduce_value  \\\n",
       "count                     2.288007e+06                         2.288007e+06   \n",
       "mean                      1.041641e+01                         3.699333e-01   \n",
       "std                       4.963815e+01                         1.372520e+01   \n",
       "min                       0.000000e+00                         0.000000e+00   \n",
       "25%                       0.000000e+00                         0.000000e+00   \n",
       "50%                       0.000000e+00                         0.000000e+00   \n",
       "75%                       0.000000e+00                         0.000000e+00   \n",
       "max                       1.404800e+04                         1.464200e+04   \n",
       "\n",
       "       bd_training_hut_level  bd_healing_lodge_level  bd_stronghold_level  \\\n",
       "count           2.288007e+06            2.288007e+06         2.288007e+06   \n",
       "mean            1.306311e+00            1.026750e+00         2.098073e+00   \n",
       "std             1.971849e+00            1.811002e+00         2.520964e+00   \n",
       "min             0.000000e+00            0.000000e+00         0.000000e+00   \n",
       "25%             0.000000e+00            0.000000e+00         0.000000e+00   \n",
       "50%             0.000000e+00            0.000000e+00         1.000000e+00   \n",
       "75%             2.000000e+00            1.000000e+00         4.000000e+00   \n",
       "max             2.000000e+01            1.900000e+01         2.300000e+01   \n",
       "\n",
       "       bd_outpost_portal_level  bd_barrack_level  bd_healing_spring_level  \\\n",
       "count             2.288007e+06      2.288007e+06             2.288007e+06   \n",
       "mean              1.764193e+00      1.283829e+00             9.244596e-01   \n",
       "std               2.358619e+00      2.032131e+00             1.900493e+00   \n",
       "min               0.000000e+00      0.000000e+00             0.000000e+00   \n",
       "25%               0.000000e+00      0.000000e+00             0.000000e+00   \n",
       "50%               0.000000e+00      0.000000e+00             0.000000e+00   \n",
       "75%               3.000000e+00      1.000000e+00             1.000000e+00   \n",
       "max               2.300000e+01      2.100000e+01             2.100000e+01   \n",
       "\n",
       "       bd_dolmen_level  bd_guest_cavern_level  bd_warehouse_level  \\\n",
       "count     2.288007e+06           2.288007e+06        2.288007e+06   \n",
       "mean      9.694551e-01           4.408474e-01        9.343398e-01   \n",
       "std       2.057987e+00           1.622136e+00        1.960826e+00   \n",
       "min       0.000000e+00           0.000000e+00        0.000000e+00   \n",
       "25%       0.000000e+00           0.000000e+00        0.000000e+00   \n",
       "50%       0.000000e+00           0.000000e+00        0.000000e+00   \n",
       "75%       1.000000e+00           0.000000e+00        1.000000e+00   \n",
       "max       2.200000e+01           2.000000e+01        2.100000e+01   \n",
       "\n",
       "       bd_watchtower_level  bd_magic_coin_tree_level  bd_hall_of_war_level  \\\n",
       "count         2.288007e+06              2.288007e+06          2.288007e+06   \n",
       "mean          9.125252e-01              1.146429e+00          1.024254e-01   \n",
       "std           1.886617e+00              2.110285e+00          4.410252e-01   \n",
       "min           0.000000e+00              0.000000e+00          0.000000e+00   \n",
       "25%           0.000000e+00              0.000000e+00          0.000000e+00   \n",
       "50%           0.000000e+00              0.000000e+00          0.000000e+00   \n",
       "75%           1.000000e+00              1.000000e+00          0.000000e+00   \n",
       "max           2.100000e+01              2.100000e+01          1.800000e+01   \n",
       "\n",
       "       bd_market_level  bd_hero_gacha_level  bd_hero_strengthen_level  \\\n",
       "count     2.288007e+06         2.288007e+06              2.288007e+06   \n",
       "mean      7.723403e-01         2.011803e-01              1.797560e-01   \n",
       "std       1.821324e+00         9.732027e-01              8.920109e-01   \n",
       "min       0.000000e+00         0.000000e+00              0.000000e+00   \n",
       "25%       0.000000e+00         0.000000e+00              0.000000e+00   \n",
       "50%       0.000000e+00         0.000000e+00              0.000000e+00   \n",
       "75%       0.000000e+00         0.000000e+00              0.000000e+00   \n",
       "max       1.900000e+01         1.900000e+01              1.700000e+01   \n",
       "\n",
       "       bd_hero_pve_level  sr_scout_level  sr_training_speed_level  \\\n",
       "count       2.288007e+06    2.288007e+06             2.288007e+06   \n",
       "mean        2.919528e-01    3.310995e-01             2.992207e-01   \n",
       "std         1.304187e+00    7.376340e-01             9.860072e-01   \n",
       "min         0.000000e+00    0.000000e+00             0.000000e+00   \n",
       "25%         0.000000e+00    0.000000e+00             0.000000e+00   \n",
       "50%         0.000000e+00    0.000000e+00             0.000000e+00   \n",
       "75%         0.000000e+00    0.000000e+00             0.000000e+00   \n",
       "max         2.100000e+01    9.000000e+00             1.700000e+01   \n",
       "\n",
       "       sr_infantry_tier_2_level  sr_cavalry_tier_2_level  \\\n",
       "count              2.288007e+06             2.288007e+06   \n",
       "mean               2.388411e-02             2.294705e-02   \n",
       "std                1.526881e-01             1.497347e-01   \n",
       "min                0.000000e+00             0.000000e+00   \n",
       "25%                0.000000e+00             0.000000e+00   \n",
       "50%                0.000000e+00             0.000000e+00   \n",
       "75%                0.000000e+00             0.000000e+00   \n",
       "max                1.000000e+00             1.000000e+00   \n",
       "\n",
       "       sr_shaman_tier_2_level  sr_infantry_atk_level  sr_cavalry_atk_level  \\\n",
       "count            2.288007e+06           2.288007e+06          2.288007e+06   \n",
       "mean             1.969137e-02           2.389110e-02          2.248857e-02   \n",
       "std              1.389375e-01           2.531641e-01          2.463319e-01   \n",
       "min              0.000000e+00           0.000000e+00          0.000000e+00   \n",
       "25%              0.000000e+00           0.000000e+00          0.000000e+00   \n",
       "50%              0.000000e+00           0.000000e+00          0.000000e+00   \n",
       "75%              0.000000e+00           0.000000e+00          0.000000e+00   \n",
       "max              1.000000e+00           1.300000e+01          1.100000e+01   \n",
       "\n",
       "       sr_shaman_atk_level  sr_infantry_tier_3_level  sr_cavalry_tier_3_level  \\\n",
       "count         2.288007e+06              2.288007e+06             2.288007e+06   \n",
       "mean          1.851262e-02              2.749117e-04             2.609258e-04   \n",
       "std           2.248276e-01              1.657819e-02             1.615109e-02   \n",
       "min           0.000000e+00              0.000000e+00             0.000000e+00   \n",
       "25%           0.000000e+00              0.000000e+00             0.000000e+00   \n",
       "50%           0.000000e+00              0.000000e+00             0.000000e+00   \n",
       "75%           0.000000e+00              0.000000e+00             0.000000e+00   \n",
       "max           1.000000e+01              1.000000e+00             1.000000e+00   \n",
       "\n",
       "       sr_shaman_tier_3_level  sr_troop_defense_level  sr_infantry_def_level  \\\n",
       "count            2.288007e+06            2.288007e+06           2.288007e+06   \n",
       "mean             2.338280e-04            7.141587e-04           4.453658e-04   \n",
       "std              1.528965e-02            6.896717e-02           5.298984e-02   \n",
       "min              0.000000e+00            0.000000e+00           0.000000e+00   \n",
       "25%              0.000000e+00            0.000000e+00           0.000000e+00   \n",
       "50%              0.000000e+00            0.000000e+00           0.000000e+00   \n",
       "75%              0.000000e+00            0.000000e+00           0.000000e+00   \n",
       "max              1.000000e+00            1.400000e+01           1.100000e+01   \n",
       "\n",
       "       sr_cavalry_def_level  sr_shaman_def_level  sr_infantry_hp_level  \\\n",
       "count          2.288007e+06         2.288007e+06          2.288007e+06   \n",
       "mean           4.305057e-04         4.034079e-04          6.276205e-04   \n",
       "std            5.274195e-02         5.005509e-02          6.631231e-02   \n",
       "min            0.000000e+00         0.000000e+00          0.000000e+00   \n",
       "25%            0.000000e+00         0.000000e+00          0.000000e+00   \n",
       "50%            0.000000e+00         0.000000e+00          0.000000e+00   \n",
       "75%            0.000000e+00         0.000000e+00          0.000000e+00   \n",
       "max            1.100000e+01         1.100000e+01          1.100000e+01   \n",
       "\n",
       "       sr_cavalry_hp_level  sr_shaman_hp_level  sr_infantry_tier_4_level  \\\n",
       "count         2.288007e+06        2.288007e+06              2.288007e+06   \n",
       "mean          5.472011e-04        5.004355e-04              1.748246e-05   \n",
       "std           6.172524e-02        5.829155e-02              4.181168e-03   \n",
       "min           0.000000e+00        0.000000e+00              0.000000e+00   \n",
       "25%           0.000000e+00        0.000000e+00              0.000000e+00   \n",
       "50%           0.000000e+00        0.000000e+00              0.000000e+00   \n",
       "75%           0.000000e+00        0.000000e+00              0.000000e+00   \n",
       "max           1.100000e+01        1.100000e+01              1.000000e+00   \n",
       "\n",
       "       sr_cavalry_tier_4_level  sr_shaman_tier_4_level  sr_troop_attack_level  \\\n",
       "count             2.288007e+06            2.288007e+06           2.288007e+06   \n",
       "mean              1.966777e-05            1.486009e-05           2.054190e-05   \n",
       "std               4.434794e-03            3.854851e-03           1.266496e-02   \n",
       "min               0.000000e+00            0.000000e+00           0.000000e+00   \n",
       "25%               0.000000e+00            0.000000e+00           0.000000e+00   \n",
       "50%               0.000000e+00            0.000000e+00           0.000000e+00   \n",
       "75%               0.000000e+00            0.000000e+00           0.000000e+00   \n",
       "max               1.000000e+00            1.000000e+00           1.100000e+01   \n",
       "\n",
       "       sr_construction_speed_level  sr_hide_storage_level  \\\n",
       "count                 2.288007e+06           2.288007e+06   \n",
       "mean                  1.221509e-01           3.474815e-02   \n",
       "std                   5.955828e-01           2.674120e-01   \n",
       "min                   0.000000e+00           0.000000e+00   \n",
       "25%                   0.000000e+00           0.000000e+00   \n",
       "50%                   0.000000e+00           0.000000e+00   \n",
       "75%                   0.000000e+00           0.000000e+00   \n",
       "max                   1.500000e+01           1.100000e+01   \n",
       "\n",
       "       sr_troop_consumption_level  sr_rss_a_prod_levell  sr_rss_b_prod_level  \\\n",
       "count                2.288007e+06          2.288007e+06         2.288007e+06   \n",
       "mean                 3.261528e-02          3.545531e-02         2.529713e-03   \n",
       "std                  2.689738e-01          2.994074e-01         7.521916e-02   \n",
       "min                  0.000000e+00          0.000000e+00         0.000000e+00   \n",
       "25%                  0.000000e+00          0.000000e+00         0.000000e+00   \n",
       "50%                  0.000000e+00          0.000000e+00         0.000000e+00   \n",
       "75%                  0.000000e+00          0.000000e+00         0.000000e+00   \n",
       "max                  1.100000e+01          9.000000e+00         9.000000e+00   \n",
       "\n",
       "       sr_rss_c_prod_level  sr_rss_d_prod_level  sr_rss_a_gather_level  \\\n",
       "count         2.288007e+06         2.288007e+06           2.288007e+06   \n",
       "mean          5.773584e-04         4.248370e-02           2.153971e-02   \n",
       "std           3.492143e-02         3.108336e-01           2.309065e-01   \n",
       "min           0.000000e+00         0.000000e+00           0.000000e+00   \n",
       "25%           0.000000e+00         0.000000e+00           0.000000e+00   \n",
       "50%           0.000000e+00         0.000000e+00           0.000000e+00   \n",
       "75%           0.000000e+00         0.000000e+00           0.000000e+00   \n",
       "max           9.000000e+00         1.100000e+01           9.000000e+00   \n",
       "\n",
       "       sr_rss_b_gather_level  sr_rss_c_gather_level  sr_rss_d_gather_level  \\\n",
       "count           2.288007e+06           2.288007e+06           2.288007e+06   \n",
       "mean            1.700170e-03           4.160826e-04           1.793876e-02   \n",
       "std             6.119213e-02           2.830898e-02           1.939576e-01   \n",
       "min             0.000000e+00           0.000000e+00           0.000000e+00   \n",
       "25%             0.000000e+00           0.000000e+00           0.000000e+00   \n",
       "50%             0.000000e+00           0.000000e+00           0.000000e+00   \n",
       "75%             0.000000e+00           0.000000e+00           0.000000e+00   \n",
       "max             9.000000e+00           7.000000e+00           9.000000e+00   \n",
       "\n",
       "       sr_troop_load_level  sr_rss_e_gather_level  sr_rss_e_prod_level  \\\n",
       "count         2.288007e+06           2.288007e+06         2.288007e+06   \n",
       "mean          2.884388e-02           1.925693e-03         7.764836e-03   \n",
       "std           3.072257e-01           6.361588e-02         1.408421e-01   \n",
       "min           0.000000e+00           0.000000e+00         0.000000e+00   \n",
       "25%           0.000000e+00           0.000000e+00         0.000000e+00   \n",
       "50%           0.000000e+00           0.000000e+00         0.000000e+00   \n",
       "75%           0.000000e+00           0.000000e+00         0.000000e+00   \n",
       "max           1.000000e+01           9.000000e+00         9.000000e+00   \n",
       "\n",
       "       sr_outpost_durability_level  sr_outpost_tier_2_level  \\\n",
       "count                 2.288007e+06             2.288007e+06   \n",
       "mean                  1.104227e-01             4.435432e-02   \n",
       "std                   4.808994e-01             2.058811e-01   \n",
       "min                   0.000000e+00             0.000000e+00   \n",
       "25%                   0.000000e+00             0.000000e+00   \n",
       "50%                   0.000000e+00             0.000000e+00   \n",
       "75%                   0.000000e+00             0.000000e+00   \n",
       "max                   1.000000e+01             1.000000e+00   \n",
       "\n",
       "       sr_healing_space_level  sr_gathering_hunter_buff_level  \\\n",
       "count            2.288007e+06                    2.288007e+06   \n",
       "mean             2.869703e-02                    3.393871e-02   \n",
       "std              2.384797e-01                    2.508571e-01   \n",
       "min              0.000000e+00                    0.000000e+00   \n",
       "25%              0.000000e+00                    0.000000e+00   \n",
       "50%              0.000000e+00                    0.000000e+00   \n",
       "75%              0.000000e+00                    0.000000e+00   \n",
       "max              1.100000e+01                    1.000000e+01   \n",
       "\n",
       "       sr_healing_speed_level  sr_outpost_tier_3_level  \\\n",
       "count            2.288007e+06             2.288007e+06   \n",
       "mean             2.206287e-02             8.789309e-04   \n",
       "std              2.021670e-01             2.963374e-02   \n",
       "min              0.000000e+00             0.000000e+00   \n",
       "25%              0.000000e+00             0.000000e+00   \n",
       "50%              0.000000e+00             0.000000e+00   \n",
       "75%              0.000000e+00             0.000000e+00   \n",
       "max              9.000000e+00             1.000000e+00   \n",
       "\n",
       "       sr_alliance_march_speed_level  sr_pvp_march_speed_level  \\\n",
       "count                   2.288007e+06              2.288007e+06   \n",
       "mean                    4.077785e-04              6.643336e-04   \n",
       "std                     3.922663e-02              5.136670e-02   \n",
       "min                     0.000000e+00              0.000000e+00   \n",
       "25%                     0.000000e+00              0.000000e+00   \n",
       "50%                     0.000000e+00              0.000000e+00   \n",
       "75%                     0.000000e+00              0.000000e+00   \n",
       "max                     1.000000e+01              1.100000e+01   \n",
       "\n",
       "       sr_gathering_march_speed_level  sr_outpost_tier_4_level  \\\n",
       "count                    2.288007e+06             2.288007e+06   \n",
       "mean                     6.070786e-04             5.681801e-06   \n",
       "std                      4.809365e-02             2.383647e-03   \n",
       "min                      0.000000e+00             0.000000e+00   \n",
       "25%                      0.000000e+00             0.000000e+00   \n",
       "50%                      0.000000e+00             0.000000e+00   \n",
       "75%                      0.000000e+00             0.000000e+00   \n",
       "max                      1.000000e+01             1.000000e+00   \n",
       "\n",
       "       sr_guest_troop_capacity_level  sr_march_size_level  \\\n",
       "count                   2.288007e+06         2.288007e+06   \n",
       "mean                    2.185308e-06         1.398597e-05   \n",
       "std                     2.192641e-03         8.967674e-03   \n",
       "min                     0.000000e+00         0.000000e+00   \n",
       "25%                     0.000000e+00         0.000000e+00   \n",
       "50%                     0.000000e+00         0.000000e+00   \n",
       "75%                     0.000000e+00         0.000000e+00   \n",
       "max                     3.000000e+00         9.000000e+00   \n",
       "\n",
       "       sr_rss_help_bonus_level  pvp_battle_count  pvp_lanch_count  \\\n",
       "count             2.288007e+06      2.288007e+06     2.288007e+06   \n",
       "mean              6.118862e-06      2.148313e+00     1.059639e+00   \n",
       "std               6.271804e-03      1.167797e+01     9.074459e+00   \n",
       "min               0.000000e+00      0.000000e+00     0.000000e+00   \n",
       "25%               0.000000e+00      0.000000e+00     0.000000e+00   \n",
       "50%               0.000000e+00      0.000000e+00     0.000000e+00   \n",
       "75%               0.000000e+00      1.000000e+00     0.000000e+00   \n",
       "max               8.000000e+00      2.054000e+03     2.051000e+03   \n",
       "\n",
       "       pvp_win_count  pve_battle_count  pve_lanch_count  pve_win_count  \\\n",
       "count   2.288007e+06      2.288007e+06     2.288007e+06   2.288007e+06   \n",
       "mean    9.838589e-01      2.844738e+00     2.832409e+00   2.556749e+00   \n",
       "std     8.951280e+00      1.276245e+01     1.271820e+01   1.184737e+01   \n",
       "min     0.000000e+00      0.000000e+00     0.000000e+00   0.000000e+00   \n",
       "25%     0.000000e+00      0.000000e+00     0.000000e+00   0.000000e+00   \n",
       "50%     0.000000e+00      0.000000e+00     0.000000e+00   0.000000e+00   \n",
       "75%     0.000000e+00      1.000000e+00     1.000000e+00   1.000000e+00   \n",
       "max     1.904000e+03      5.090000e+02     5.090000e+02   4.880000e+02   \n",
       "\n",
       "       avg_online_minutes     pay_price     pay_count  prediction_pay_price  \n",
       "count        2.288007e+06  2.288007e+06  2.288007e+06          2.288007e+06  \n",
       "mean         1.020749e+01  5.346691e-01  5.770699e-02          1.793146e+00  \n",
       "std          3.895946e+01  2.263835e+01  7.090886e-01          8.846303e+01  \n",
       "min          0.000000e+00  0.000000e+00  0.000000e+00          0.000000e+00  \n",
       "25%          5.000000e-01  0.000000e+00  0.000000e+00          0.000000e+00  \n",
       "50%          1.833333e+00  0.000000e+00  0.000000e+00          0.000000e+00  \n",
       "75%          4.833333e+00  0.000000e+00  0.000000e+00          0.000000e+00  \n",
       "max          2.049667e+03  7.457950e+03  1.050000e+02          3.297781e+04  "
      ]
     },
     "execution_count": 51,
     "metadata": {},
     "output_type": "execute_result"
    }
   ],
   "source": [
    "pd.set_option('display.max_columns',None)\n",
    "data.describe()"
   ]
  },
  {
   "cell_type": "code",
   "execution_count": 52,
   "metadata": {
    "scrolled": true
   },
   "outputs": [
    {
     "data": {
      "text/plain": [
       "<matplotlib.axes._subplots.AxesSubplot at 0x24c09d1da90>"
      ]
     },
     "execution_count": 52,
     "metadata": {},
     "output_type": "execute_result"
    },
    {
     "data": {
      "image/png": "[encoded data removed]",
      "text/plain": [
       "<Figure size 432x288 with 1 Axes>"
      ]
     },
     "metadata": {
      "needs_background": "light"
     },
     "output_type": "display_data"
    }
   ],
   "source": [
    "# 切比雪夫来消除极值\n",
    "data[data.wood_add_value<20000000].wood_add_value.plot.hist()"
   ]
  },
  {
   "cell_type": "code",
   "execution_count": 53,
   "metadata": {
    "scrolled": true
   },
   "outputs": [
    {
     "data": {
      "text/plain": [
       "<matplotlib.axes._subplots.AxesSubplot at 0x24c09aaf828>"
      ]
     },
     "execution_count": 53,
     "metadata": {},
     "output_type": "execute_result"
    },
    {
     "data": {
      "image/png": "[encoded data removed]",
      "text/plain": [
       "<Figure size 432x288 with 1 Axes>"
      ]
     },
     "metadata": {
      "needs_background": "light"
     },
     "output_type": "display_data"
    }
   ],
   "source": [
    "# 累加图，可以看出大部分的贡献集中在少部分玩家中，二八法则\n",
    "data.sort_values('wood_add_value',ascending = False).wood_add_value.cumsum().reset_index(drop=True).plot()"
   ]
  },
  {
   "cell_type": "code",
   "execution_count": 54,
   "metadata": {},
   "outputs": [
    {
     "data": {
      "text/plain": [
       "Timestamp('2018-01-26 00:00:00')"
      ]
     },
     "execution_count": 54,
     "metadata": {},
     "output_type": "execute_result"
    }
   ],
   "source": [
    "data.register_time.min()"
   ]
  },
  {
   "cell_type": "code",
   "execution_count": 55,
   "metadata": {},
   "outputs": [
    {
     "data": {
      "text/plain": [
       "Timestamp('2018-03-06 00:00:00')"
      ]
     },
     "execution_count": 55,
     "metadata": {},
     "output_type": "execute_result"
    }
   ],
   "source": [
    "data.register_time.max()"
   ]
  },
  {
   "cell_type": "code",
   "execution_count": 56,
   "metadata": {},
   "outputs": [
    {
     "data": {
      "text/plain": [
       "Timedelta('39 days 00:00:00')"
      ]
     },
     "execution_count": 56,
     "metadata": {},
     "output_type": "execute_result"
    }
   ],
   "source": [
    "data.register_time.max()-data.register_time.min()"
   ]
  },
  {
   "cell_type": "code",
   "execution_count": 57,
   "metadata": {},
   "outputs": [
    {
     "data": {
      "text/plain": [
       "<matplotlib.axes._subplots.AxesSubplot at 0x24c09b25f28>"
      ]
     },
     "execution_count": 57,
     "metadata": {},
     "output_type": "execute_result"
    },
    {
     "data": {
      "image/png": "[encoded data removed]",
      "text/plain": [
       "<Figure size 432x288 with 1 Axes>"
      ]
     },
     "metadata": {
      "needs_background": "light"
     },
     "output_type": "display_data"
    }
   ],
   "source": [
    "# 每日新增用户数,总体下降，2月19号前后有一波大高潮\n",
    "data.groupby('register_time').user_id.count().plot()"
   ]
  },
  {
   "cell_type": "code",
   "execution_count": 58,
   "metadata": {
    "scrolled": true
   },
   "outputs": [
    {
     "data": {
      "text/plain": [
       "True     2242019\n",
       "False      45988\n",
       "Name: prediction_pay_price, dtype: int64"
      ]
     },
     "execution_count": 58,
     "metadata": {},
     "output_type": "execute_result"
    }
   ],
   "source": [
    "# 45日内无消费用户占比\n",
    "(data.prediction_pay_price==0).value_counts()"
   ]
  },
  {
   "cell_type": "markdown",
   "metadata": {},
   "source": [
    "### 抽样分析有代表性特征的分布情况"
   ]
  },
  {
   "cell_type": "code",
   "execution_count": 59,
   "metadata": {},
   "outputs": [
    {
     "data": {
      "text/plain": [
       "<matplotlib.axes._subplots.AxesSubplot at 0x24c09cf0390>"
      ]
     },
     "execution_count": 59,
     "metadata": {},
     "output_type": "execute_result"
    },
    {
     "data": {
      "image/png": "[encoded data removed]",
      "text/plain": [
       "<Figure size 432x288 with 1 Axes>"
      ]
     },
     "metadata": {
      "needs_background": "light"
     },
     "output_type": "display_data"
    }
   ],
   "source": [
    "data.wood_reduce_value.plot.hist()"
   ]
  },
  {
   "cell_type": "code",
   "execution_count": 60,
   "metadata": {},
   "outputs": [
    {
     "data": {
      "text/plain": [
       "<matplotlib.axes._subplots.AxesSubplot at 0x24c09aafd30>"
      ]
     },
     "execution_count": 60,
     "metadata": {},
     "output_type": "execute_result"
    },
    {
     "data": {
      "image/png": "[encoded data removed]",
      "text/plain": [
       "<Figure size 432x288 with 1 Axes>"
      ]
     },
     "metadata": {
      "needs_background": "light"
     },
     "output_type": "display_data"
    }
   ],
   "source": [
    "data.cavalry_add_value.plot.hist()"
   ]
  },
  {
   "cell_type": "code",
   "execution_count": 61,
   "metadata": {
    "scrolled": false
   },
   "outputs": [
    {
     "data": {
      "text/plain": [
       "<matplotlib.axes._subplots.AxesSubplot at 0x24c02a96d68>"
      ]
     },
     "execution_count": 61,
     "metadata": {},
     "output_type": "execute_result"
    },
    {
     "data": {
      "image/png": "[encoded data removed]",
      "text/plain": [
       "<Figure size 432x288 with 1 Axes>"
      ]
     },
     "metadata": {
      "needs_background": "light"
     },
     "output_type": "display_data"
    }
   ],
   "source": [
    "data.bd_healing_lodge_level.plot.hist()"
   ]
  },
  {
   "cell_type": "code",
   "execution_count": 62,
   "metadata": {},
   "outputs": [
    {
     "data": {
      "text/plain": [
       "<matplotlib.axes._subplots.AxesSubplot at 0x24c02b0d860>"
      ]
     },
     "execution_count": 62,
     "metadata": {},
     "output_type": "execute_result"
    },
    {
     "data": {
      "image/png": "[encoded data removed]",
      "text/plain": [
       "<Figure size 432x288 with 1 Axes>"
      ]
     },
     "metadata": {
      "needs_background": "light"
     },
     "output_type": "display_data"
    }
   ],
   "source": [
    "data.bd_stronghold_level.plot.hist()"
   ]
  },
  {
   "cell_type": "code",
   "execution_count": 63,
   "metadata": {},
   "outputs": [
    {
     "data": {
      "text/plain": [
       "<matplotlib.axes._subplots.AxesSubplot at 0x24c02b7ecf8>"
      ]
     },
     "execution_count": 63,
     "metadata": {},
     "output_type": "execute_result"
    },
    {
     "data": {
      "image/png": "[encoded data removed]",
      "text/plain": [
       "<Figure size 432x288 with 1 Axes>"
      ]
     },
     "metadata": {
      "needs_background": "light"
     },
     "output_type": "display_data"
    }
   ],
   "source": [
    "data.sr_cavalry_tier_2_level.plot.hist()"
   ]
  },
  {
   "cell_type": "code",
   "execution_count": 64,
   "metadata": {},
   "outputs": [
    {
     "data": {
      "text/plain": [
       "<matplotlib.axes._subplots.AxesSubplot at 0x24c02bc9588>"
      ]
     },
     "execution_count": 64,
     "metadata": {},
     "output_type": "execute_result"
    },
    {
     "data": {
      "image/png": "[encoded data removed]",
      "text/plain": [
       "<Figure size 432x288 with 1 Axes>"
      ]
     },
     "metadata": {
      "needs_background": "light"
     },
     "output_type": "display_data"
    }
   ],
   "source": [
    "data.pvp_battle_count.plot.hist()"
   ]
  },
  {
   "cell_type": "code",
   "execution_count": 65,
   "metadata": {},
   "outputs": [
    {
     "data": {
      "text/plain": [
       "<matplotlib.axes._subplots.AxesSubplot at 0x24c02bc9e48>"
      ]
     },
     "execution_count": 65,
     "metadata": {},
     "output_type": "execute_result"
    },
    {
     "data": {
      "image/png": "[encoded data removed]",
      "text/plain": [
       "<Figure size 432x288 with 1 Axes>"
      ]
     },
     "metadata": {
      "needs_background": "light"
     },
     "output_type": "display_data"
    }
   ],
   "source": [
    "data.avg_online_minutes.plot.hist()"
   ]
  },
  {
   "cell_type": "code",
   "execution_count": 66,
   "metadata": {
    "scrolled": false
   },
   "outputs": [
    {
     "data": {
      "text/plain": [
       "array([[<matplotlib.axes._subplots.AxesSubplot object at 0x0000024C02BC2908>,\n",
       "        <matplotlib.axes._subplots.AxesSubplot object at 0x0000024C02CE3048>],\n",
       "       [<matplotlib.axes._subplots.AxesSubplot object at 0x0000024C02D0D5C0>,\n",
       "        <matplotlib.axes._subplots.AxesSubplot object at 0x0000024C02D34B00>]],\n",
       "      dtype=object)"
      ]
     },
     "execution_count": 66,
     "metadata": {},
     "output_type": "execute_result"
    },
    {
     "data": {
      "image/png": "[encoded data removed]",
      "text/plain": [
       "<Figure size 432x288 with 4 Axes>"
      ]
     },
     "metadata": {
      "needs_background": "light"
     },
     "output_type": "display_data"
    }
   ],
   "source": [
    "data[['pay_price','pay_count','prediction_pay_price']].hist()"
   ]
  },
  {
   "cell_type": "markdown",
   "metadata": {},
   "source": [
    "- 整体体征都严重偏斜，大部分玩家只玩了很短的时间"
   ]
  },
  {
   "cell_type": "code",
   "execution_count": 67,
   "metadata": {},
   "outputs": [
    {
     "data": {
      "text/plain": [
       "[2246568, 41439, 17622, 23817]"
      ]
     },
     "execution_count": 67,
     "metadata": {},
     "output_type": "execute_result"
    }
   ],
   "source": [
    "lt = []\n",
    "lt.append(data[data.pay_count==0].pay_count.count())\n",
    "lt.append(data[data.pay_count>0].pay_count.count())\n",
    "lt.append(data[data.pay_count==1].pay_count.count())\n",
    "lt.append(data[data.pay_count>1].pay_count.count())\n",
    "lt"
   ]
  },
  {
   "cell_type": "code",
   "execution_count": 68,
   "metadata": {
    "scrolled": false
   },
   "outputs": [
    {
     "name": "stdout",
     "output_type": "stream",
     "text": [
      "付费率 0.018111395638212645\n"
     ]
    },
    {
     "data": {
      "image/png": "[encoded data removed]",
      "text/plain": [
       "<Figure size 432x288 with 1 Axes>"
      ]
     },
     "metadata": {
      "needs_background": "light"
     },
     "output_type": "display_data"
    },
    {
     "data": {
      "image/png": "[encoded data removed]",
      "text/plain": [
       "<Figure size 432x288 with 1 Axes>"
      ]
     },
     "metadata": {
      "needs_background": "light"
     },
     "output_type": "display_data"
    }
   ],
   "source": [
    "# 大部分是不付费用户\n",
    "# 在付费用户中，多次付费的用户高于只付费一次的用户，因此要提高付费率\n",
    "df = pd.DataFrame(lt, index=['no_pay_user', 'pay_user', 'pay_one_user', 'pay_more_user'])\n",
    "df.iloc[0:2].plot.bar()\n",
    "plt.xticks(rotation=0)\n",
    "df.iloc[2:].plot.bar()\n",
    "plt.xticks(rotation=0)\n",
    "# 付费率\n",
    "print('付费率',data[data.pay_count>0].user_id.count() / data.user_id.count())"
   ]
  },
  {
   "cell_type": "markdown",
   "metadata": {},
   "source": [
    "- 大部分是不付费用户\n",
    "- 在付费用户中，多次付费的用户高于只付费一次的用户，因此要提高付费率"
   ]
  },
  {
   "cell_type": "code",
   "execution_count": 69,
   "metadata": {
    "scrolled": false
   },
   "outputs": [
    {
     "data": {
      "image/png": "[encoded data removed]",
      "text/plain": [
       "<Figure size 432x288 with 1 Axes>"
      ]
     },
     "metadata": {
      "needs_background": "light"
     },
     "output_type": "display_data"
    }
   ],
   "source": [
    "df1 = pd.DataFrame([data[data.pay_count==1].pay_price.sum(), data[data.pay_count>1].pay_price.sum()],\\\n",
    "                  index=['sum_pay_one', 'sum_pay_more'])\n",
    "df1.plot.bar()\n",
    "plt.xticks(rotation=0)\n",
    "plt.show()"
   ]
  },
  {
   "cell_type": "markdown",
   "metadata": {},
   "source": [
    "- 付费多次的用户付费总额也远高于付费一次的用户"
   ]
  },
  {
   "cell_type": "code",
   "execution_count": 70,
   "metadata": {},
   "outputs": [
    {
     "data": {
      "text/plain": [
       "<matplotlib.axes._subplots.AxesSubplot at 0x24c02eec3c8>"
      ]
     },
     "execution_count": 70,
     "metadata": {},
     "output_type": "execute_result"
    },
    {
     "data": {
      "image/png": "[encoded data removed]",
      "text/plain": [
       "<Figure size 432x288 with 1 Axes>"
      ]
     },
     "metadata": {
      "needs_background": "light"
     },
     "output_type": "display_data"
    }
   ],
   "source": [
    "data['price_diff'] = data.prediction_pay_price - data.pay_price\n",
    "data.price_diff.plot.hist()"
   ]
  },
  {
   "cell_type": "code",
   "execution_count": 71,
   "metadata": {},
   "outputs": [
    {
     "data": {
      "text/plain": [
       "(30130, 110)"
      ]
     },
     "execution_count": 71,
     "metadata": {},
     "output_type": "execute_result"
    }
   ],
   "source": [
    "# 前7日付费后不再付费用户\n",
    "unactive_user = data[(data.pay_price>0) & (data.price_diff==0)]\n",
    "unactive_user.shape"
   ]
  },
  {
   "cell_type": "code",
   "execution_count": 72,
   "metadata": {},
   "outputs": [
    {
     "data": {
      "text/plain": [
       "(4549, 110)"
      ]
     },
     "execution_count": 72,
     "metadata": {},
     "output_type": "execute_result"
    }
   ],
   "source": [
    "# 前7日不付费，后45日有付费的用户\n",
    "data[(data.pay_price==0) & (data.price_diff>0)].shape"
   ]
  },
  {
   "cell_type": "code",
   "execution_count": 73,
   "metadata": {
    "scrolled": true
   },
   "outputs": [
    {
     "data": {
      "text/plain": [
       "<matplotlib.axes._subplots.AxesSubplot at 0x24c02e4aeb8>"
      ]
     },
     "execution_count": 73,
     "metadata": {},
     "output_type": "execute_result"
    },
    {
     "data": {
      "image/png": "[encoded data removed]",
      "text/plain": [
       "<Figure size 432x288 with 1 Axes>"
      ]
     },
     "metadata": {
      "needs_background": "light"
     },
     "output_type": "display_data"
    }
   ],
   "source": [
    "(unactive_user.pay_count>1).value_counts().plot.bar()"
   ]
  },
  {
   "cell_type": "markdown",
   "metadata": {},
   "source": [
    "- 前7日付费后不再付费用户中， 只付费1次与付费多次的占比相当"
   ]
  },
  {
   "cell_type": "code",
   "execution_count": 74,
   "metadata": {},
   "outputs": [
    {
     "name": "stdout",
     "output_type": "stream",
     "text": [
      "ARPU = 0.5346691072186407\n",
      "ARPPU = 29.52114336735926\n"
     ]
    }
   ],
   "source": [
    "# ARPU ARPPU\n",
    "print('ARPU =', data.pay_price.sum() / data.user_id.count())\n",
    "print('ARPPU =', data.pay_price.sum() / data[data.pay_price>0].user_id.count())"
   ]
  },
  {
   "cell_type": "code",
   "execution_count": 75,
   "metadata": {},
   "outputs": [
    {
     "name": "stdout",
     "output_type": "stream",
     "text": [
      "所有用户日平均在线时长(min): 10.207489627811018\n",
      "所有用户周平均在线时长(min): 71.45242739467713\n"
     ]
    }
   ],
   "source": [
    "# 所有用户日平均在线时长，和周平均在线时长\n",
    "print('所有用户日平均在线时长(min):', data.avg_online_minutes.sum()/data.user_id.count())\n",
    "print('所有用户周平均在线时长(min):', data.avg_online_minutes.sum()*7/data.user_id.count())"
   ]
  },
  {
   "cell_type": "code",
   "execution_count": 76,
   "metadata": {},
   "outputs": [
    {
     "name": "stdout",
     "output_type": "stream",
     "text": [
      "付费用户日平均在线时长(min): 140.18774584526656\n",
      "不付费用户日平均在线时长(min): 7.8099428643054685\n"
     ]
    }
   ],
   "source": [
    "# 付费用户日平均在线时长 与 不付费用户日平均在线时长\n",
    "print('付费用户日平均在线时长(min):', data[data.pay_price>0].avg_online_minutes.sum()/data[data.pay_price>0].user_id.count())\n",
    "print('不付费用户日平均在线时长(min):', data[data.pay_price==0].avg_online_minutes.sum()/data[data.pay_price==0].user_id.count())"
   ]
  },
  {
   "cell_type": "code",
   "execution_count": 77,
   "metadata": {},
   "outputs": [
    {
     "data": {
      "text/plain": [
       "(227059, 110)"
      ]
     },
     "execution_count": 77,
     "metadata": {},
     "output_type": "execute_result"
    }
   ],
   "source": [
    "# 定义活跃用户为 每天在线70min以上的\n",
    "data[data.avg_online_minutes>15].shape\n",
    "# 用象限法 划分 活跃与付费"
   ]
  },
  {
   "cell_type": "markdown",
   "metadata": {},
   "source": [
    "## 用象限法 划分 活跃与付费\n",
    "- 第一象限：活跃且付费，重点维护用户\n",
    "- 第二象限：不活跃但付费，重点发展用户\n",
    "- 第三象限：不活跃也不付费，一般发展用户\n",
    "- 第四象限：活跃但不付费，一般维护用户"
   ]
  },
  {
   "cell_type": "code",
   "execution_count": 78,
   "metadata": {},
   "outputs": [],
   "source": [
    "data['user_label'] = 'a'\n",
    "data['user_label'][(data['avg_online_minutes']>15)& (data['pay_price']>0)] = '活跃且付费用户'\n",
    "data['user_label'][(data['avg_online_minutes']<=15)& (data['pay_price']>0)] = '不活跃但付费'\n",
    "data['user_label'][(data['avg_online_minutes']<=15)& (data['pay_price']==0)] = '不活跃也不付费'\n",
    "data['user_label'][(data['avg_online_minutes']>15)& (data['pay_price']==0)] = '活跃但不付费'"
   ]
  },
  {
   "cell_type": "code",
   "execution_count": 79,
   "metadata": {},
   "outputs": [
    {
     "data": {
      "text/plain": [
       "<matplotlib.axes._subplots.AxesSubplot at 0x24c09ad3ef0>"
      ]
     },
     "execution_count": 79,
     "metadata": {},
     "output_type": "execute_result"
    },
    {
     "data": {
      "image/png": "[encoded data removed]",
      "text/plain": [
       "<Figure size 432x288 with 1 Axes>"
      ]
     },
     "metadata": {
      "needs_background": "light"
     },
     "output_type": "display_data"
    }
   ],
   "source": [
    "# 各类型用户占比，重点维护付费且活跃用户，重点发展付费但不活跃用户，一般维护活跃但不付费用户\n",
    "data.groupby('user_label').user_id.count().plot.bar()\n"
   ]
  },
  {
   "cell_type": "code",
   "execution_count": 83,
   "metadata": {},
   "outputs": [
    {
     "data": {
      "text/plain": [
       "<matplotlib.axes._subplots.AxesSubplot at 0x24c02122198>"
      ]
     },
     "execution_count": 83,
     "metadata": {},
     "output_type": "execute_result"
    },
    {
     "data": {
      "image/png": "[encoded data removed]",
      "text/plain": [
       "<Figure size 432x288 with 1 Axes>"
      ]
     },
     "metadata": {
      "needs_background": "light"
     },
     "output_type": "display_data"
    }
   ],
   "source": [
    "data['weekday'] = data.register_time.dt.weekday+1\n",
    "# 不同星期新增用户数对比，周一与周日比较多，周三最少\n",
    "data.groupby('weekday').user_id.count().plot.bar()"
   ]
  }
 ],
 "metadata": {
  "kernelspec": {
   "display_name": "Python 3",
   "language": "python",
   "name": "python3"
  },
  "language_info": {
   "codemirror_mode": {
    "name": "ipython",
    "version": 3
   },
   "file_extension": ".py",
   "mimetype": "text/x-python",
   "name": "python",
   "nbconvert_exporter": "python",
   "pygments_lexer": "ipython3",
   "version": "3.7.3"
  }
 },
 "nbformat": 4,
 "nbformat_minor": 2
}
